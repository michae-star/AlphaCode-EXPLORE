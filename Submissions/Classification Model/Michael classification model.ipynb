{
 "cells": [
  {
   "cell_type": "markdown",
   "metadata": {},
   "source": [
    "### IMPORT PACKAGES"
   ]
  },
  {
   "cell_type": "code",
   "execution_count": 50,
   "metadata": {},
   "outputs": [
    {
     "name": "stderr",
     "output_type": "stream",
     "text": [
      "UsageError: Line magic function `%` not found.\n"
     ]
    }
   ],
   "source": [
    "import numpy as np\n",
    "import pandas as pd\n",
    "import matplotlib.pyplot as plt\n",
    "import seaborn as sns\n",
    "% matplotlib inline"
   ]
  },
  {
   "cell_type": "code",
   "execution_count": 51,
   "metadata": {},
   "outputs": [],
   "source": [
    "import sqlalchemy as sa\n",
    "from sqlalchemy import create_engine\n",
    "from sqlalchemy import Table, Column, Integer, String, MetaData"
   ]
  },
  {
   "cell_type": "code",
   "execution_count": 52,
   "metadata": {},
   "outputs": [],
   "source": [
    "Username = 'admin'\n",
    "Password = 'amazing_people'\n",
    "Host = 'alphacode-explore.ccwgqdqrrmvt.eu-west-1.rds.amazonaws.com'\n",
    "Port = '1433'\n",
    "Database = 'Michael'"
   ]
  },
  {
   "cell_type": "markdown",
   "metadata": {},
   "source": [
    "### CREATING CONNECTION"
   ]
  },
  {
   "cell_type": "code",
   "execution_count": 53,
   "metadata": {},
   "outputs": [],
   "source": [
    "connection = create_engine(\n",
    "    'mssql+pymssql://' +\n",
    "    Username + ':' + Password + '@' + Host + ':' + Port + '/' + Database\n",
    ")"
   ]
  },
  {
   "cell_type": "markdown",
   "metadata": {},
   "source": [
    "### SQL QUERY"
   ]
  },
  {
   "cell_type": "code",
   "execution_count": 54,
   "metadata": {},
   "outputs": [],
   "source": [
    "sql_query = \"Select * from claims_data\""
   ]
  },
  {
   "cell_type": "markdown",
   "metadata": {},
   "source": [
    "### CREATING A DATAFRAME"
   ]
  },
  {
   "cell_type": "code",
   "execution_count": 55,
   "metadata": {},
   "outputs": [],
   "source": [
    "df = pd.read_sql_query(sql_query, connection)"
   ]
  },
  {
   "cell_type": "code",
   "execution_count": 56,
   "metadata": {},
   "outputs": [
    {
     "data": {
      "text/html": [
       "<div>\n",
       "<style scoped>\n",
       "    .dataframe tbody tr th:only-of-type {\n",
       "        vertical-align: middle;\n",
       "    }\n",
       "\n",
       "    .dataframe tbody tr th {\n",
       "        vertical-align: top;\n",
       "    }\n",
       "\n",
       "    .dataframe thead th {\n",
       "        text-align: right;\n",
       "    }\n",
       "</style>\n",
       "<table border=\"1\" class=\"dataframe\">\n",
       "  <thead>\n",
       "    <tr style=\"text-align: right;\">\n",
       "      <th></th>\n",
       "      <th>age</th>\n",
       "      <th>sex</th>\n",
       "      <th>bmi</th>\n",
       "      <th>steps</th>\n",
       "      <th>children</th>\n",
       "      <th>smoker</th>\n",
       "      <th>region</th>\n",
       "      <th>insurance_claim</th>\n",
       "      <th>claim_amount</th>\n",
       "    </tr>\n",
       "  </thead>\n",
       "  <tbody>\n",
       "    <tr>\n",
       "      <th>0</th>\n",
       "      <td>19</td>\n",
       "      <td>female</td>\n",
       "      <td>27.9</td>\n",
       "      <td>3009</td>\n",
       "      <td>0</td>\n",
       "      <td>yes</td>\n",
       "      <td>southwest</td>\n",
       "      <td>yes</td>\n",
       "      <td>16884.924</td>\n",
       "    </tr>\n",
       "    <tr>\n",
       "      <th>1</th>\n",
       "      <td>18</td>\n",
       "      <td>male</td>\n",
       "      <td>33.77</td>\n",
       "      <td>3008</td>\n",
       "      <td>1</td>\n",
       "      <td>no</td>\n",
       "      <td>southeast</td>\n",
       "      <td>yes</td>\n",
       "      <td>1725.5523</td>\n",
       "    </tr>\n",
       "    <tr>\n",
       "      <th>2</th>\n",
       "      <td>28</td>\n",
       "      <td>male</td>\n",
       "      <td>33</td>\n",
       "      <td>3009</td>\n",
       "      <td>3</td>\n",
       "      <td>no</td>\n",
       "      <td>southeast</td>\n",
       "      <td>no</td>\n",
       "      <td>0</td>\n",
       "    </tr>\n",
       "    <tr>\n",
       "      <th>3</th>\n",
       "      <td>33</td>\n",
       "      <td>male</td>\n",
       "      <td>22.705</td>\n",
       "      <td>10009</td>\n",
       "      <td>0</td>\n",
       "      <td>no</td>\n",
       "      <td>northwest</td>\n",
       "      <td>no</td>\n",
       "      <td>0</td>\n",
       "    </tr>\n",
       "    <tr>\n",
       "      <th>4</th>\n",
       "      <td>32</td>\n",
       "      <td>male</td>\n",
       "      <td>28.88</td>\n",
       "      <td>8010</td>\n",
       "      <td>0</td>\n",
       "      <td>no</td>\n",
       "      <td>northwest</td>\n",
       "      <td>yes</td>\n",
       "      <td>3866.8552</td>\n",
       "    </tr>\n",
       "  </tbody>\n",
       "</table>\n",
       "</div>"
      ],
      "text/plain": [
       "  age     sex     bmi  steps children smoker     region insurance_claim  \\\n",
       "0  19  female    27.9   3009        0    yes  southwest             yes   \n",
       "1  18    male   33.77   3008        1     no  southeast             yes   \n",
       "2  28    male      33   3009        3     no  southeast              no   \n",
       "3  33    male  22.705  10009        0     no  northwest              no   \n",
       "4  32    male   28.88   8010        0     no  northwest             yes   \n",
       "\n",
       "  claim_amount  \n",
       "0    16884.924  \n",
       "1    1725.5523  \n",
       "2            0  \n",
       "3            0  \n",
       "4    3866.8552  "
      ]
     },
     "execution_count": 56,
     "metadata": {},
     "output_type": "execute_result"
    }
   ],
   "source": [
    "df.head()"
   ]
  },
  {
   "cell_type": "markdown",
   "metadata": {},
   "source": [
    "### PRE-PROCESSING"
   ]
  },
  {
   "cell_type": "markdown",
   "metadata": {},
   "source": [
    "### FEATURES/LABELS SPLIT"
   ]
  },
  {
   "cell_type": "code",
   "execution_count": 57,
   "metadata": {},
   "outputs": [],
   "source": [
    "# Lables\n",
    "y = df['insurance_claim']\n",
    "\n",
    "# Features\n",
    "X = df.drop(['insurance_claim', 'claim_amount'], axis=1)"
   ]
  },
  {
   "cell_type": "code",
   "execution_count": 58,
   "metadata": {},
   "outputs": [
    {
     "data": {
      "text/plain": [
       "(1338, 7)"
      ]
     },
     "execution_count": 58,
     "metadata": {},
     "output_type": "execute_result"
    }
   ],
   "source": [
    "X.shape"
   ]
  },
  {
   "cell_type": "markdown",
   "metadata": {},
   "source": [
    "### TRANSFORMING THE FEATURES"
   ]
  },
  {
   "cell_type": "code",
   "execution_count": 59,
   "metadata": {},
   "outputs": [],
   "source": [
    "X_transformed = pd.get_dummies(X, drop_first=True)"
   ]
  },
  {
   "cell_type": "markdown",
   "metadata": {},
   "source": [
    "### TRAIN/TEST SPLIT"
   ]
  },
  {
   "cell_type": "markdown",
   "metadata": {},
   "source": [
    "### IMPORT TRAIN-TEST-SPLIT METHOD"
   ]
  },
  {
   "cell_type": "code",
   "execution_count": 60,
   "metadata": {},
   "outputs": [],
   "source": [
    "from sklearn.model_selection import train_test_split"
   ]
  },
  {
   "cell_type": "code",
   "execution_count": 61,
   "metadata": {},
   "outputs": [],
   "source": [
    "X_train, X_test, y_train, y_test = train_test_split(X_transformed, y, test_size=0.2, random_state=47)"
   ]
  },
  {
   "cell_type": "markdown",
   "metadata": {},
   "source": [
    "### TRAINING MODEL"
   ]
  },
  {
   "cell_type": "markdown",
   "metadata": {},
   "source": [
    "### Rescaling features"
   ]
  },
  {
   "cell_type": "code",
   "execution_count": 62,
   "metadata": {},
   "outputs": [],
   "source": [
    "from sklearn.preprocessing import StandardScaler"
   ]
  },
  {
   "cell_type": "code",
   "execution_count": 63,
   "metadata": {},
   "outputs": [],
   "source": [
    "scaler = StandardScaler()"
   ]
  },
  {
   "cell_type": "markdown",
   "metadata": {},
   "source": [
    "### Standardizing features"
   ]
  },
  {
   "cell_type": "code",
   "execution_count": 64,
   "metadata": {},
   "outputs": [],
   "source": [
    "X_scaled = scaler.fit_transform(X_transformed)"
   ]
  },
  {
   "cell_type": "code",
   "execution_count": 65,
   "metadata": {},
   "outputs": [
    {
     "data": {
      "text/html": [
       "<div>\n",
       "<style scoped>\n",
       "    .dataframe tbody tr th:only-of-type {\n",
       "        vertical-align: middle;\n",
       "    }\n",
       "\n",
       "    .dataframe tbody tr th {\n",
       "        vertical-align: top;\n",
       "    }\n",
       "\n",
       "    .dataframe thead th {\n",
       "        text-align: right;\n",
       "    }\n",
       "</style>\n",
       "<table border=\"1\" class=\"dataframe\">\n",
       "  <thead>\n",
       "    <tr style=\"text-align: right;\">\n",
       "      <th></th>\n",
       "      <th>age_19</th>\n",
       "      <th>age_20</th>\n",
       "      <th>age_21</th>\n",
       "      <th>age_22</th>\n",
       "      <th>age_23</th>\n",
       "      <th>age_24</th>\n",
       "      <th>age_25</th>\n",
       "      <th>age_26</th>\n",
       "      <th>age_27</th>\n",
       "      <th>age_28</th>\n",
       "      <th>...</th>\n",
       "      <th>steps_8010</th>\n",
       "      <th>children_1</th>\n",
       "      <th>children_2</th>\n",
       "      <th>children_3</th>\n",
       "      <th>children_4</th>\n",
       "      <th>children_5</th>\n",
       "      <th>smoker_yes</th>\n",
       "      <th>region_northwest</th>\n",
       "      <th>region_southeast</th>\n",
       "      <th>region_southwest</th>\n",
       "    </tr>\n",
       "  </thead>\n",
       "  <tbody>\n",
       "    <tr>\n",
       "      <th>0</th>\n",
       "      <td>4.321628</td>\n",
       "      <td>-0.148843</td>\n",
       "      <td>-0.146199</td>\n",
       "      <td>-0.146199</td>\n",
       "      <td>-0.146199</td>\n",
       "      <td>-0.146199</td>\n",
       "      <td>-0.146199</td>\n",
       "      <td>-0.146199</td>\n",
       "      <td>-0.146199</td>\n",
       "      <td>-0.146199</td>\n",
       "      <td>...</td>\n",
       "      <td>-0.161473</td>\n",
       "      <td>-0.565267</td>\n",
       "      <td>-0.467525</td>\n",
       "      <td>-0.364607</td>\n",
       "      <td>-0.137987</td>\n",
       "      <td>-0.116775</td>\n",
       "      <td>1.970587</td>\n",
       "      <td>-0.566418</td>\n",
       "      <td>-0.611324</td>\n",
       "      <td>1.765481</td>\n",
       "    </tr>\n",
       "    <tr>\n",
       "      <th>1</th>\n",
       "      <td>-0.231394</td>\n",
       "      <td>-0.148843</td>\n",
       "      <td>-0.146199</td>\n",
       "      <td>-0.146199</td>\n",
       "      <td>-0.146199</td>\n",
       "      <td>-0.146199</td>\n",
       "      <td>-0.146199</td>\n",
       "      <td>-0.146199</td>\n",
       "      <td>-0.146199</td>\n",
       "      <td>-0.146199</td>\n",
       "      <td>...</td>\n",
       "      <td>-0.161473</td>\n",
       "      <td>1.769076</td>\n",
       "      <td>-0.467525</td>\n",
       "      <td>-0.364607</td>\n",
       "      <td>-0.137987</td>\n",
       "      <td>-0.116775</td>\n",
       "      <td>-0.507463</td>\n",
       "      <td>-0.566418</td>\n",
       "      <td>1.635795</td>\n",
       "      <td>-0.566418</td>\n",
       "    </tr>\n",
       "    <tr>\n",
       "      <th>2</th>\n",
       "      <td>-0.231394</td>\n",
       "      <td>-0.148843</td>\n",
       "      <td>-0.146199</td>\n",
       "      <td>-0.146199</td>\n",
       "      <td>-0.146199</td>\n",
       "      <td>-0.146199</td>\n",
       "      <td>-0.146199</td>\n",
       "      <td>-0.146199</td>\n",
       "      <td>-0.146199</td>\n",
       "      <td>6.840008</td>\n",
       "      <td>...</td>\n",
       "      <td>-0.161473</td>\n",
       "      <td>-0.565267</td>\n",
       "      <td>-0.467525</td>\n",
       "      <td>2.742680</td>\n",
       "      <td>-0.137987</td>\n",
       "      <td>-0.116775</td>\n",
       "      <td>-0.507463</td>\n",
       "      <td>-0.566418</td>\n",
       "      <td>1.635795</td>\n",
       "      <td>-0.566418</td>\n",
       "    </tr>\n",
       "    <tr>\n",
       "      <th>3</th>\n",
       "      <td>-0.231394</td>\n",
       "      <td>-0.148843</td>\n",
       "      <td>-0.146199</td>\n",
       "      <td>-0.146199</td>\n",
       "      <td>-0.146199</td>\n",
       "      <td>-0.146199</td>\n",
       "      <td>-0.146199</td>\n",
       "      <td>-0.146199</td>\n",
       "      <td>-0.146199</td>\n",
       "      <td>-0.146199</td>\n",
       "      <td>...</td>\n",
       "      <td>-0.161473</td>\n",
       "      <td>-0.565267</td>\n",
       "      <td>-0.467525</td>\n",
       "      <td>-0.364607</td>\n",
       "      <td>-0.137987</td>\n",
       "      <td>-0.116775</td>\n",
       "      <td>-0.507463</td>\n",
       "      <td>1.765481</td>\n",
       "      <td>-0.611324</td>\n",
       "      <td>-0.566418</td>\n",
       "    </tr>\n",
       "    <tr>\n",
       "      <th>4</th>\n",
       "      <td>-0.231394</td>\n",
       "      <td>-0.148843</td>\n",
       "      <td>-0.146199</td>\n",
       "      <td>-0.146199</td>\n",
       "      <td>-0.146199</td>\n",
       "      <td>-0.146199</td>\n",
       "      <td>-0.146199</td>\n",
       "      <td>-0.146199</td>\n",
       "      <td>-0.146199</td>\n",
       "      <td>-0.146199</td>\n",
       "      <td>...</td>\n",
       "      <td>6.192975</td>\n",
       "      <td>-0.565267</td>\n",
       "      <td>-0.467525</td>\n",
       "      <td>-0.364607</td>\n",
       "      <td>-0.137987</td>\n",
       "      <td>-0.116775</td>\n",
       "      <td>-0.507463</td>\n",
       "      <td>1.765481</td>\n",
       "      <td>-0.611324</td>\n",
       "      <td>-0.566418</td>\n",
       "    </tr>\n",
       "  </tbody>\n",
       "</table>\n",
       "<p>5 rows × 657 columns</p>\n",
       "</div>"
      ],
      "text/plain": [
       "     age_19    age_20    age_21    age_22    age_23    age_24    age_25  \\\n",
       "0  4.321628 -0.148843 -0.146199 -0.146199 -0.146199 -0.146199 -0.146199   \n",
       "1 -0.231394 -0.148843 -0.146199 -0.146199 -0.146199 -0.146199 -0.146199   \n",
       "2 -0.231394 -0.148843 -0.146199 -0.146199 -0.146199 -0.146199 -0.146199   \n",
       "3 -0.231394 -0.148843 -0.146199 -0.146199 -0.146199 -0.146199 -0.146199   \n",
       "4 -0.231394 -0.148843 -0.146199 -0.146199 -0.146199 -0.146199 -0.146199   \n",
       "\n",
       "     age_26    age_27    age_28  ...  steps_8010  children_1  children_2  \\\n",
       "0 -0.146199 -0.146199 -0.146199  ...   -0.161473   -0.565267   -0.467525   \n",
       "1 -0.146199 -0.146199 -0.146199  ...   -0.161473    1.769076   -0.467525   \n",
       "2 -0.146199 -0.146199  6.840008  ...   -0.161473   -0.565267   -0.467525   \n",
       "3 -0.146199 -0.146199 -0.146199  ...   -0.161473   -0.565267   -0.467525   \n",
       "4 -0.146199 -0.146199 -0.146199  ...    6.192975   -0.565267   -0.467525   \n",
       "\n",
       "   children_3  children_4  children_5  smoker_yes  region_northwest  \\\n",
       "0   -0.364607   -0.137987   -0.116775    1.970587         -0.566418   \n",
       "1   -0.364607   -0.137987   -0.116775   -0.507463         -0.566418   \n",
       "2    2.742680   -0.137987   -0.116775   -0.507463         -0.566418   \n",
       "3   -0.364607   -0.137987   -0.116775   -0.507463          1.765481   \n",
       "4   -0.364607   -0.137987   -0.116775   -0.507463          1.765481   \n",
       "\n",
       "   region_southeast  region_southwest  \n",
       "0         -0.611324          1.765481  \n",
       "1          1.635795         -0.566418  \n",
       "2          1.635795         -0.566418  \n",
       "3         -0.611324         -0.566418  \n",
       "4         -0.611324         -0.566418  \n",
       "\n",
       "[5 rows x 657 columns]"
      ]
     },
     "execution_count": 65,
     "metadata": {},
     "output_type": "execute_result"
    }
   ],
   "source": [
    "X_standardize = pd.DataFrame(X_scaled,columns=X_transformed.columns)\n",
    "X_standardize.head()"
   ]
  },
  {
   "cell_type": "markdown",
   "metadata": {},
   "source": [
    "### Training"
   ]
  },
  {
   "cell_type": "code",
   "execution_count": 66,
   "metadata": {},
   "outputs": [],
   "source": [
    "from sklearn.neighbors import KNeighborsClassifier\n",
    "from sklearn.tree import DecisionTreeClassifier"
   ]
  },
  {
   "cell_type": "code",
   "execution_count": 67,
   "metadata": {},
   "outputs": [],
   "source": [
    "knn = KNeighborsClassifier()\n",
    "tree = DecisionTreeClassifier(random_state=47)"
   ]
  },
  {
   "cell_type": "code",
   "execution_count": 68,
   "metadata": {},
   "outputs": [
    {
     "data": {
      "text/plain": [
       "DecisionTreeClassifier(class_weight=None, criterion='gini', max_depth=None,\n",
       "                       max_features=None, max_leaf_nodes=None,\n",
       "                       min_impurity_decrease=0.0, min_impurity_split=None,\n",
       "                       min_samples_leaf=1, min_samples_split=2,\n",
       "                       min_weight_fraction_leaf=0.0, presort=False,\n",
       "                       random_state=47, splitter='best')"
      ]
     },
     "execution_count": 68,
     "metadata": {},
     "output_type": "execute_result"
    }
   ],
   "source": [
    "knn.fit(X_train, y_train)\n",
    "tree.fit(X_train, y_train)"
   ]
  },
  {
   "cell_type": "markdown",
   "metadata": {},
   "source": [
    "### EVALUATE"
   ]
  },
  {
   "cell_type": "code",
   "execution_count": 69,
   "metadata": {},
   "outputs": [],
   "source": [
    "pred_knn = knn.predict(X_test)\n",
    "pred_tree = tree.predict(X_test)"
   ]
  },
  {
   "cell_type": "markdown",
   "metadata": {},
   "source": [
    "### Testing"
   ]
  },
  {
   "cell_type": "code",
   "execution_count": 70,
   "metadata": {},
   "outputs": [],
   "source": [
    "from sklearn.metrics import confusion_matrix\n",
    "from sklearn.metrics import classification_report"
   ]
  },
  {
   "cell_type": "markdown",
   "metadata": {},
   "source": [
    "Confusion matrix"
   ]
  },
  {
   "cell_type": "code",
   "execution_count": 71,
   "metadata": {},
   "outputs": [
    {
     "name": "stdout",
     "output_type": "stream",
     "text": [
      "Confusion Matrix\n"
     ]
    },
    {
     "data": {
      "text/html": [
       "<div>\n",
       "<style scoped>\n",
       "    .dataframe tbody tr th:only-of-type {\n",
       "        vertical-align: middle;\n",
       "    }\n",
       "\n",
       "    .dataframe tbody tr th {\n",
       "        vertical-align: top;\n",
       "    }\n",
       "\n",
       "    .dataframe thead th {\n",
       "        text-align: right;\n",
       "    }\n",
       "</style>\n",
       "<table border=\"1\" class=\"dataframe\">\n",
       "  <thead>\n",
       "    <tr style=\"text-align: right;\">\n",
       "      <th></th>\n",
       "      <th>No</th>\n",
       "      <th>Yes</th>\n",
       "    </tr>\n",
       "  </thead>\n",
       "  <tbody>\n",
       "    <tr>\n",
       "      <th>No</th>\n",
       "      <td>57</td>\n",
       "      <td>45</td>\n",
       "    </tr>\n",
       "    <tr>\n",
       "      <th>Yes</th>\n",
       "      <td>24</td>\n",
       "      <td>142</td>\n",
       "    </tr>\n",
       "  </tbody>\n",
       "</table>\n",
       "</div>"
      ],
      "text/plain": [
       "     No  Yes\n",
       "No   57   45\n",
       "Yes  24  142"
      ]
     },
     "execution_count": 71,
     "metadata": {},
     "output_type": "execute_result"
    }
   ],
   "source": [
    "labels = ['No', 'Yes']\n",
    "\n",
    "print('Confusion Matrix')\n",
    "pd.DataFrame(data=confusion_matrix(y_test, pred_knn), index=labels, columns=labels)"
   ]
  },
  {
   "cell_type": "code",
   "execution_count": 72,
   "metadata": {},
   "outputs": [
    {
     "name": "stdout",
     "output_type": "stream",
     "text": [
      "Decision Tree - Confusion Matrix\n"
     ]
    },
    {
     "data": {
      "text/html": [
       "<div>\n",
       "<style scoped>\n",
       "    .dataframe tbody tr th:only-of-type {\n",
       "        vertical-align: middle;\n",
       "    }\n",
       "\n",
       "    .dataframe tbody tr th {\n",
       "        vertical-align: top;\n",
       "    }\n",
       "\n",
       "    .dataframe thead th {\n",
       "        text-align: right;\n",
       "    }\n",
       "</style>\n",
       "<table border=\"1\" class=\"dataframe\">\n",
       "  <thead>\n",
       "    <tr style=\"text-align: right;\">\n",
       "      <th></th>\n",
       "      <th>No</th>\n",
       "      <th>Yes</th>\n",
       "    </tr>\n",
       "  </thead>\n",
       "  <tbody>\n",
       "    <tr>\n",
       "      <th>No</th>\n",
       "      <td>80</td>\n",
       "      <td>22</td>\n",
       "    </tr>\n",
       "    <tr>\n",
       "      <th>Yes</th>\n",
       "      <td>13</td>\n",
       "      <td>153</td>\n",
       "    </tr>\n",
       "  </tbody>\n",
       "</table>\n",
       "</div>"
      ],
      "text/plain": [
       "     No  Yes\n",
       "No   80   22\n",
       "Yes  13  153"
      ]
     },
     "execution_count": 72,
     "metadata": {},
     "output_type": "execute_result"
    }
   ],
   "source": [
    "labels = ['No', 'Yes']\n",
    "\n",
    "print('Decision Tree - Confusion Matrix')\n",
    "pd.DataFrame(data=confusion_matrix(y_test, pred_tree), index=labels, columns=labels)"
   ]
  },
  {
   "cell_type": "markdown",
   "metadata": {},
   "source": [
    "Classification report"
   ]
  },
  {
   "cell_type": "code",
   "execution_count": 73,
   "metadata": {},
   "outputs": [
    {
     "name": "stdout",
     "output_type": "stream",
     "text": [
      "Classification Report\n",
      "              precision    recall  f1-score   support\n",
      "\n",
      "          No       0.70      0.56      0.62       102\n",
      "         Yes       0.76      0.86      0.80       166\n",
      "\n",
      "    accuracy                           0.74       268\n",
      "   macro avg       0.73      0.71      0.71       268\n",
      "weighted avg       0.74      0.74      0.74       268\n",
      "\n"
     ]
    }
   ],
   "source": [
    "print('Classification Report')\n",
    "print(classification_report(y_test, pred_knn, target_names=['No', 'Yes']))"
   ]
  },
  {
   "cell_type": "code",
   "execution_count": 74,
   "metadata": {},
   "outputs": [
    {
     "name": "stdout",
     "output_type": "stream",
     "text": [
      "Decision Tree - Classification Report\n",
      "              precision    recall  f1-score   support\n",
      "\n",
      "          No       0.86      0.78      0.82       102\n",
      "         Yes       0.87      0.92      0.90       166\n",
      "\n",
      "    accuracy                           0.87       268\n",
      "   macro avg       0.87      0.85      0.86       268\n",
      "weighted avg       0.87      0.87      0.87       268\n",
      "\n"
     ]
    }
   ],
   "source": [
    "print('Decision Tree - Classification Report')\n",
    "print(classification_report(y_test, pred_tree, target_names=['No', 'Yes']))"
   ]
  },
  {
   "cell_type": "markdown",
   "metadata": {},
   "source": [
    "### TUNING PARAMETERS"
   ]
  },
  {
   "cell_type": "markdown",
   "metadata": {},
   "source": [
    "## Train"
   ]
  },
  {
   "cell_type": "code",
   "execution_count": 75,
   "metadata": {},
   "outputs": [],
   "source": [
    "knn_2 = KNeighborsClassifier(n_neighbors=2)\n",
    "knn_4 = KNeighborsClassifier(n_neighbors=4)\n",
    "knn_15 = KNeighborsClassifier(n_neighbors=15)"
   ]
  },
  {
   "cell_type": "code",
   "execution_count": 76,
   "metadata": {},
   "outputs": [],
   "source": [
    "tree_1 = DecisionTreeClassifier(max_depth=2, min_samples_leaf=5, random_state=50)\n",
    "tree_2 = DecisionTreeClassifier(max_depth=5, min_samples_leaf=4, random_state=50)\n",
    "tree_3 = DecisionTreeClassifier(max_depth=7, min_samples_leaf=3, random_state=50)"
   ]
  },
  {
   "cell_type": "code",
   "execution_count": 77,
   "metadata": {},
   "outputs": [
    {
     "data": {
      "text/plain": [
       "KNeighborsClassifier(algorithm='auto', leaf_size=30, metric='minkowski',\n",
       "                     metric_params=None, n_jobs=None, n_neighbors=2, p=2,\n",
       "                     weights='uniform')"
      ]
     },
     "execution_count": 77,
     "metadata": {},
     "output_type": "execute_result"
    }
   ],
   "source": [
    "knn_2.fit(X_train, y_train)"
   ]
  },
  {
   "cell_type": "code",
   "execution_count": 78,
   "metadata": {},
   "outputs": [
    {
     "data": {
      "text/plain": [
       "DecisionTreeClassifier(class_weight=None, criterion='gini', max_depth=2,\n",
       "                       max_features=None, max_leaf_nodes=None,\n",
       "                       min_impurity_decrease=0.0, min_impurity_split=None,\n",
       "                       min_samples_leaf=5, min_samples_split=2,\n",
       "                       min_weight_fraction_leaf=0.0, presort=False,\n",
       "                       random_state=50, splitter='best')"
      ]
     },
     "execution_count": 78,
     "metadata": {},
     "output_type": "execute_result"
    }
   ],
   "source": [
    "tree_1.fit(X_train, y_train)"
   ]
  },
  {
   "cell_type": "code",
   "execution_count": 79,
   "metadata": {},
   "outputs": [
    {
     "data": {
      "text/plain": [
       "KNeighborsClassifier(algorithm='auto', leaf_size=30, metric='minkowski',\n",
       "                     metric_params=None, n_jobs=None, n_neighbors=4, p=2,\n",
       "                     weights='uniform')"
      ]
     },
     "execution_count": 79,
     "metadata": {},
     "output_type": "execute_result"
    }
   ],
   "source": [
    "knn_4.fit(X_train, y_train)"
   ]
  },
  {
   "cell_type": "code",
   "execution_count": 80,
   "metadata": {},
   "outputs": [
    {
     "data": {
      "text/plain": [
       "DecisionTreeClassifier(class_weight=None, criterion='gini', max_depth=5,\n",
       "                       max_features=None, max_leaf_nodes=None,\n",
       "                       min_impurity_decrease=0.0, min_impurity_split=None,\n",
       "                       min_samples_leaf=4, min_samples_split=2,\n",
       "                       min_weight_fraction_leaf=0.0, presort=False,\n",
       "                       random_state=50, splitter='best')"
      ]
     },
     "execution_count": 80,
     "metadata": {},
     "output_type": "execute_result"
    }
   ],
   "source": [
    "tree_2.fit(X_train, y_train)"
   ]
  },
  {
   "cell_type": "code",
   "execution_count": 81,
   "metadata": {},
   "outputs": [
    {
     "data": {
      "text/plain": [
       "KNeighborsClassifier(algorithm='auto', leaf_size=30, metric='minkowski',\n",
       "                     metric_params=None, n_jobs=None, n_neighbors=15, p=2,\n",
       "                     weights='uniform')"
      ]
     },
     "execution_count": 81,
     "metadata": {},
     "output_type": "execute_result"
    }
   ],
   "source": [
    "knn_15.fit(X_train, y_train)"
   ]
  },
  {
   "cell_type": "code",
   "execution_count": 82,
   "metadata": {},
   "outputs": [
    {
     "data": {
      "text/plain": [
       "DecisionTreeClassifier(class_weight=None, criterion='gini', max_depth=7,\n",
       "                       max_features=None, max_leaf_nodes=None,\n",
       "                       min_impurity_decrease=0.0, min_impurity_split=None,\n",
       "                       min_samples_leaf=3, min_samples_split=2,\n",
       "                       min_weight_fraction_leaf=0.0, presort=False,\n",
       "                       random_state=50, splitter='best')"
      ]
     },
     "execution_count": 82,
     "metadata": {},
     "output_type": "execute_result"
    }
   ],
   "source": [
    "tree_3.fit(X_train, y_train)"
   ]
  },
  {
   "cell_type": "markdown",
   "metadata": {},
   "source": [
    "### PREDICT"
   ]
  },
  {
   "cell_type": "code",
   "execution_count": 83,
   "metadata": {},
   "outputs": [],
   "source": [
    "pred_knn_2 = knn_2.predict(X_test)\n",
    "pred_knn_4 = knn_4.predict(X_test)\n",
    "pred_knn_15 = knn_15.predict(X_test)"
   ]
  },
  {
   "cell_type": "code",
   "execution_count": 84,
   "metadata": {},
   "outputs": [],
   "source": [
    "pred_tree_1 = tree_1.predict(X_test)\n",
    "pred_tree_2 = tree_2.predict(X_test)\n",
    "pred_tree_3 = tree_3.predict(X_test)"
   ]
  },
  {
   "cell_type": "markdown",
   "metadata": {},
   "source": [
    "# TEST"
   ]
  },
  {
   "cell_type": "markdown",
   "metadata": {},
   "source": [
    "Confusion Matrix"
   ]
  },
  {
   "cell_type": "code",
   "execution_count": 85,
   "metadata": {},
   "outputs": [
    {
     "name": "stdout",
     "output_type": "stream",
     "text": [
      "k=2\n",
      "     No  Yes\n",
      "No   85   17\n",
      "Yes  63  103\n",
      "\n",
      "\n",
      "k=4\n",
      "     No  Yes\n",
      "No   73   29\n",
      "Yes  42  124\n",
      "\n",
      "\n",
      "k=15\n",
      "     No  Yes\n",
      "No   69   33\n",
      "Yes  20  146\n",
      "\n",
      "\n"
     ]
    }
   ],
   "source": [
    "labels = ['No', 'Yes']\n",
    "\n",
    "pred = {'k=2':pred_knn_2, 'k=4':pred_knn_4, 'k=15':pred_knn_15}\n",
    "\n",
    "for k,v in pred.items():\n",
    "    print('{}'.format(k))\n",
    "    print(pd.DataFrame(data=confusion_matrix(y_test, v), index=labels, columns=labels))\n",
    "    print('\\n')"
   ]
  },
  {
   "cell_type": "code",
   "execution_count": 86,
   "metadata": {},
   "outputs": [
    {
     "name": "stdout",
     "output_type": "stream",
     "text": [
      "max_depth=2; min_samples_leaf=5\n",
      "     No  Yes\n",
      "No   19   83\n",
      "Yes   6  160\n",
      "\n",
      "\n",
      "max_depth=5; min_samples_leaf=4\n",
      "     No  Yes\n",
      "No   78   24\n",
      "Yes  34  132\n",
      "\n",
      "\n",
      "max_depth=7; min_samples_leaf=3\n",
      "     No  Yes\n",
      "No   54   48\n",
      "Yes  18  148\n",
      "\n",
      "\n"
     ]
    }
   ],
   "source": [
    "labels = ['No', 'Yes']\n",
    "\n",
    "pred = {'max_depth=2; min_samples_leaf=5':pred_tree_1, \n",
    "        'max_depth=5; min_samples_leaf=4':pred_tree_2, \n",
    "        'max_depth=7; min_samples_leaf=3':pred_tree_3}\n",
    "\n",
    "for k,v in pred.items():\n",
    "    print('{}'.format(k))\n",
    "    print(pd.DataFrame(data=confusion_matrix(y_test, v), index=labels, columns=labels))\n",
    "    print('\\n')"
   ]
  },
  {
   "cell_type": "markdown",
   "metadata": {},
   "source": [
    "Classification report"
   ]
  },
  {
   "cell_type": "code",
   "execution_count": 87,
   "metadata": {},
   "outputs": [
    {
     "name": "stdout",
     "output_type": "stream",
     "text": [
      "k=2\n",
      "              precision    recall  f1-score   support\n",
      "\n",
      "          No       0.57      0.83      0.68       102\n",
      "         Yes       0.86      0.62      0.72       166\n",
      "\n",
      "    accuracy                           0.70       268\n",
      "   macro avg       0.72      0.73      0.70       268\n",
      "weighted avg       0.75      0.70      0.70       268\n",
      "\n",
      "\n",
      "\n",
      "k=4\n",
      "              precision    recall  f1-score   support\n",
      "\n",
      "          No       0.63      0.72      0.67       102\n",
      "         Yes       0.81      0.75      0.78       166\n",
      "\n",
      "    accuracy                           0.74       268\n",
      "   macro avg       0.72      0.73      0.73       268\n",
      "weighted avg       0.74      0.74      0.74       268\n",
      "\n",
      "\n",
      "\n",
      "k=15\n",
      "              precision    recall  f1-score   support\n",
      "\n",
      "          No       0.78      0.68      0.72       102\n",
      "         Yes       0.82      0.88      0.85       166\n",
      "\n",
      "    accuracy                           0.80       268\n",
      "   macro avg       0.80      0.78      0.78       268\n",
      "weighted avg       0.80      0.80      0.80       268\n",
      "\n",
      "\n",
      "\n"
     ]
    }
   ],
   "source": [
    "pred = {'k=2':pred_knn_2, 'k=4':pred_knn_4, 'k=15':pred_knn_15}\n",
    "\n",
    "for k,v in pred.items():\n",
    "    print('{}'.format(k))\n",
    "    print(classification_report(y_test, v, target_names=['No', 'Yes']))\n",
    "    print('\\n')"
   ]
  },
  {
   "cell_type": "code",
   "execution_count": 88,
   "metadata": {},
   "outputs": [
    {
     "name": "stdout",
     "output_type": "stream",
     "text": [
      "max_depth=2; min_samples_leaf=5\n",
      "              precision    recall  f1-score   support\n",
      "\n",
      "          No       0.76      0.19      0.30       102\n",
      "         Yes       0.66      0.96      0.78       166\n",
      "\n",
      "    accuracy                           0.67       268\n",
      "   macro avg       0.71      0.58      0.54       268\n",
      "weighted avg       0.70      0.67      0.60       268\n",
      "\n",
      "\n",
      "\n",
      "max_depth=5; min_samples_leaf=4\n",
      "              precision    recall  f1-score   support\n",
      "\n",
      "          No       0.70      0.76      0.73       102\n",
      "         Yes       0.85      0.80      0.82       166\n",
      "\n",
      "    accuracy                           0.78       268\n",
      "   macro avg       0.77      0.78      0.77       268\n",
      "weighted avg       0.79      0.78      0.79       268\n",
      "\n",
      "\n",
      "\n",
      "max_depth=7; min_samples_leaf=3\n",
      "              precision    recall  f1-score   support\n",
      "\n",
      "          No       0.75      0.53      0.62       102\n",
      "         Yes       0.76      0.89      0.82       166\n",
      "\n",
      "    accuracy                           0.75       268\n",
      "   macro avg       0.75      0.71      0.72       268\n",
      "weighted avg       0.75      0.75      0.74       268\n",
      "\n",
      "\n",
      "\n"
     ]
    }
   ],
   "source": [
    "pred = {'max_depth=2; min_samples_leaf=5':pred_tree_1, \n",
    "        'max_depth=5; min_samples_leaf=4':pred_tree_2, \n",
    "        'max_depth=7; min_samples_leaf=3':pred_tree_3}\n",
    "\n",
    "for k,v in pred.items():\n",
    "    print('{}'.format(k))\n",
    "    print(classification_report(y_test, v, target_names=['No', 'Yes']))\n",
    "    print('\\n')"
   ]
  },
  {
   "cell_type": "markdown",
   "metadata": {},
   "source": [
    "### DECISION TREE HAS THE BEST SCORE"
   ]
  },
  {
   "cell_type": "markdown",
   "metadata": {},
   "source": [
    "### CREATING A DATAFRAME"
   ]
  },
  {
   "cell_type": "code",
   "execution_count": 193,
   "metadata": {},
   "outputs": [],
   "source": [
    "sql_query_claims = \"Select * from claims_data\"\n",
    "sql_query_test = \"Select * from test_set\"\n",
    "\n",
    "df_claims = pd.read_sql_query(sql_query_claims, connection)\n",
    "df_test = pd.read_sql_query(sql_query_test, connection)\n",
    "\n",
    "df_claims_no_labels = df_claims.drop(['insurance_claim', 'claim_amount'], axis=1)\n",
    "df_test_no_index = df_test.drop(['row_id'], axis=1)\n",
    "\n",
    "df_combined = pd.concat([df_claims_no_labels, df_test_no_index],sort=False).reset_index(drop=True)"
   ]
  },
  {
   "cell_type": "markdown",
   "metadata": {},
   "source": [
    "### Pre-processing"
   ]
  },
  {
   "cell_type": "code",
   "execution_count": 194,
   "metadata": {},
   "outputs": [],
   "source": [
    "y = df_claims['insurance_claim']\n",
    "\n",
    "X = df_claims.drop(['insurance_claim', 'claim_amount'], axis=1)\n",
    "\n",
    "r = df_test['row_id']"
   ]
  },
  {
   "cell_type": "markdown",
   "metadata": {},
   "source": [
    "### Transform features"
   ]
  },
  {
   "cell_type": "code",
   "execution_count": 195,
   "metadata": {},
   "outputs": [],
   "source": [
    "combined_transformed = pd.get_dummies(df_combined, drop_first=True)\n",
    "\n",
    "X_transformed = combined_transformed.iloc[:len(y), :]\n",
    "test_transformed = combined_transformed.iloc[len(y):, :]"
   ]
  },
  {
   "cell_type": "markdown",
   "metadata": {},
   "source": [
    "### Train/Test Split"
   ]
  },
  {
   "cell_type": "code",
   "execution_count": 197,
   "metadata": {},
   "outputs": [],
   "source": [
    "\n",
    "from sklearn.model_selection import train_test_split\n",
    "\n",
    "\n",
    "X_train, X_test, y_train, y_test = train_test_split(X_transformed, y, test_size=0.2, random_state=47)"
   ]
  },
  {
   "cell_type": "markdown",
   "metadata": {},
   "source": [
    "### TRAINING"
   ]
  },
  {
   "cell_type": "code",
   "execution_count": 198,
   "metadata": {},
   "outputs": [
    {
     "data": {
      "text/plain": [
       "DecisionTreeClassifier(class_weight=None, criterion='gini', max_depth=None,\n",
       "                       max_features=None, max_leaf_nodes=None,\n",
       "                       min_impurity_decrease=0.0, min_impurity_split=None,\n",
       "                       min_samples_leaf=1, min_samples_split=2,\n",
       "                       min_weight_fraction_leaf=0.0, presort=False,\n",
       "                       random_state=50, splitter='best')"
      ]
     },
     "execution_count": 198,
     "metadata": {},
     "output_type": "execute_result"
    }
   ],
   "source": [
    "from sklearn.tree import DecisionTreeClassifier\n",
    "\n",
    "tree = DecisionTreeClassifier(random_state=50)\n",
    "tree.fit(X_train, y_train)"
   ]
  },
  {
   "cell_type": "markdown",
   "metadata": {},
   "source": [
    "### PREDICTING"
   ]
  },
  {
   "cell_type": "code",
   "execution_count": 199,
   "metadata": {},
   "outputs": [],
   "source": [
    "pred_tree = tree.predict(X_test)"
   ]
  },
  {
   "cell_type": "markdown",
   "metadata": {},
   "source": [
    "### TESTING"
   ]
  },
  {
   "cell_type": "code",
   "execution_count": 200,
   "metadata": {},
   "outputs": [],
   "source": [
    "from sklearn.metrics import confusion_matrix\n",
    "from sklearn.metrics import classification_report\n",
    "\n",
    "labels = ['No', 'Yes']"
   ]
  },
  {
   "cell_type": "markdown",
   "metadata": {},
   "source": [
    "CONFUSION MATRIX"
   ]
  },
  {
   "cell_type": "code",
   "execution_count": 202,
   "metadata": {},
   "outputs": [
    {
     "name": "stdout",
     "output_type": "stream",
     "text": [
      "Decision Tree Confusion Matrix\n"
     ]
    },
    {
     "data": {
      "text/html": [
       "<div>\n",
       "<style scoped>\n",
       "    .dataframe tbody tr th:only-of-type {\n",
       "        vertical-align: middle;\n",
       "    }\n",
       "\n",
       "    .dataframe tbody tr th {\n",
       "        vertical-align: top;\n",
       "    }\n",
       "\n",
       "    .dataframe thead th {\n",
       "        text-align: right;\n",
       "    }\n",
       "</style>\n",
       "<table border=\"1\" class=\"dataframe\">\n",
       "  <thead>\n",
       "    <tr style=\"text-align: right;\">\n",
       "      <th></th>\n",
       "      <th>No</th>\n",
       "      <th>Yes</th>\n",
       "    </tr>\n",
       "  </thead>\n",
       "  <tbody>\n",
       "    <tr>\n",
       "      <th>No</th>\n",
       "      <td>80</td>\n",
       "      <td>22</td>\n",
       "    </tr>\n",
       "    <tr>\n",
       "      <th>Yes</th>\n",
       "      <td>13</td>\n",
       "      <td>153</td>\n",
       "    </tr>\n",
       "  </tbody>\n",
       "</table>\n",
       "</div>"
      ],
      "text/plain": [
       "     No  Yes\n",
       "No   80   22\n",
       "Yes  13  153"
      ]
     },
     "execution_count": 202,
     "metadata": {},
     "output_type": "execute_result"
    }
   ],
   "source": [
    "print('Decision Tree Confusion Matrix')\n",
    "pd.DataFrame(data=confusion_matrix(y_test, pred_tree), index=labels, columns=labels)"
   ]
  },
  {
   "cell_type": "markdown",
   "metadata": {},
   "source": [
    "### Classification report"
   ]
  },
  {
   "cell_type": "code",
   "execution_count": 203,
   "metadata": {},
   "outputs": [],
   "source": [
    "from sklearn.metrics import classification_report"
   ]
  },
  {
   "cell_type": "code",
   "execution_count": 204,
   "metadata": {},
   "outputs": [
    {
     "name": "stdout",
     "output_type": "stream",
     "text": [
      "Decision Tree - Classification Report\n",
      "              precision    recall  f1-score   support\n",
      "\n",
      "          No       0.86      0.78      0.82       102\n",
      "         Yes       0.87      0.92      0.90       166\n",
      "\n",
      "    accuracy                           0.87       268\n",
      "   macro avg       0.87      0.85      0.86       268\n",
      "weighted avg       0.87      0.87      0.87       268\n",
      "\n"
     ]
    }
   ],
   "source": [
    "print('Decision Tree - Classification Report')\n",
    "print(classification_report(y_test, pred_tree, target_names=['No', 'Yes']))"
   ]
  },
  {
   "cell_type": "markdown",
   "metadata": {},
   "source": [
    "### TUNNING"
   ]
  },
  {
   "cell_type": "code",
   "execution_count": 205,
   "metadata": {},
   "outputs": [
    {
     "name": "stdout",
     "output_type": "stream",
     "text": [
      "max_depth=5; min_samples_leaf=5\n",
      "     No  Yes\n",
      "No   19   83\n",
      "Yes   6  160\n",
      "\n",
      "\n",
      "max_depth=2; min_samples_leaf=5\n",
      "     No  Yes\n",
      "No   19   83\n",
      "Yes   6  160\n",
      "\n",
      "\n",
      "max_depth=5; min_samples_leaf=4\n",
      "     No  Yes\n",
      "No   78   24\n",
      "Yes  34  132\n",
      "\n",
      "\n",
      "max_depth=7; min_samples_leaf=3\n",
      "     No  Yes\n",
      "No   53   49\n",
      "Yes  18  148\n",
      "\n",
      "\n",
      "max_depth=5; min_samples_leaf=5\n",
      "              precision    recall  f1-score   support\n",
      "\n",
      "          No       0.76      0.19      0.30       102\n",
      "         Yes       0.66      0.96      0.78       166\n",
      "\n",
      "    accuracy                           0.67       268\n",
      "   macro avg       0.71      0.58      0.54       268\n",
      "weighted avg       0.70      0.67      0.60       268\n",
      "\n",
      "\n",
      "\n",
      "max_depth=2; min_samples_leaf=5\n",
      "              precision    recall  f1-score   support\n",
      "\n",
      "          No       0.76      0.19      0.30       102\n",
      "         Yes       0.66      0.96      0.78       166\n",
      "\n",
      "    accuracy                           0.67       268\n",
      "   macro avg       0.71      0.58      0.54       268\n",
      "weighted avg       0.70      0.67      0.60       268\n",
      "\n",
      "\n",
      "\n",
      "max_depth=5; min_samples_leaf=4\n",
      "              precision    recall  f1-score   support\n",
      "\n",
      "          No       0.70      0.76      0.73       102\n",
      "         Yes       0.85      0.80      0.82       166\n",
      "\n",
      "    accuracy                           0.78       268\n",
      "   macro avg       0.77      0.78      0.77       268\n",
      "weighted avg       0.79      0.78      0.79       268\n",
      "\n",
      "\n",
      "\n",
      "max_depth=7; min_samples_leaf=3\n",
      "              precision    recall  f1-score   support\n",
      "\n",
      "          No       0.75      0.52      0.61       102\n",
      "         Yes       0.75      0.89      0.82       166\n",
      "\n",
      "    accuracy                           0.75       268\n",
      "   macro avg       0.75      0.71      0.71       268\n",
      "weighted avg       0.75      0.75      0.74       268\n",
      "\n",
      "\n",
      "\n"
     ]
    }
   ],
   "source": [
    "tree_0 = DecisionTreeClassifier(max_depth=5, min_samples_leaf=5, random_state=50)\n",
    "\n",
    "tree_1 = DecisionTreeClassifier(max_depth=2, min_samples_leaf=5, random_state=50)\n",
    "\n",
    "tree_2 = DecisionTreeClassifier(max_depth=5, min_samples_leaf=4, random_state=50)\n",
    "\n",
    "tree_3 = DecisionTreeClassifier(max_depth=7, min_samples_leaf=3, random_state=50)\n",
    "\n",
    "tree_0.fit(X_train, y_train)\n",
    "tree_1.fit(X_train, y_train)\n",
    "tree_2.fit(X_train, y_train)\n",
    "tree_3.fit(X_train, y_train)\n",
    "\n",
    "pred_tree_0 = tree_1.predict(X_test)\n",
    "pred_tree_1 = tree_1.predict(X_test)\n",
    "pred_tree_2 = tree_2.predict(X_test)\n",
    "pred_tree_3 = tree_3.predict(X_test)\n",
    "\n",
    "pred = {'max_depth=5; min_samples_leaf=5':pred_tree_0, \n",
    "        'max_depth=2; min_samples_leaf=5':pred_tree_1, \n",
    "        'max_depth=5; min_samples_leaf=4':pred_tree_2, \n",
    "        'max_depth=7; min_samples_leaf=3':pred_tree_3}\n",
    "\n",
    "for k,v in pred.items():\n",
    "    print('{}'.format(k))\n",
    "    print(pd.DataFrame(data=confusion_matrix(y_test, v), index=labels, columns=labels))\n",
    "    print('\\n')\n",
    "\n",
    "pred = {'max_depth=5; min_samples_leaf=5':pred_tree_0, \n",
    "        'max_depth=2; min_samples_leaf=5':pred_tree_1, \n",
    "        'max_depth=5; min_samples_leaf=4':pred_tree_2, \n",
    "        'max_depth=7; min_samples_leaf=3':pred_tree_3}\n",
    "\n",
    "for k,v in pred.items():\n",
    "    print('{}'.format(k))\n",
    "    print(classification_report(y_test, v, target_names=['No', 'Yes']))\n",
    "    print('\\n')"
   ]
  },
  {
   "cell_type": "code",
   "execution_count": 207,
   "metadata": {},
   "outputs": [],
   "source": [
    "test_pred_tree = tree.predict(test_transformed)"
   ]
  },
  {
   "cell_type": "code",
   "execution_count": 208,
   "metadata": {},
   "outputs": [
    {
     "data": {
      "text/plain": [
       "array(['yes', 'yes', 'yes', 'yes', 'yes', 'yes', 'yes', 'yes', 'yes',\n",
       "       'yes', 'yes', 'yes', 'yes', 'yes', 'yes', 'yes', 'yes', 'yes',\n",
       "       'yes', 'yes', 'yes', 'yes', 'yes', 'yes', 'yes', 'no', 'no', 'yes',\n",
       "       'yes', 'yes', 'yes', 'yes', 'yes', 'yes', 'yes', 'yes', 'yes',\n",
       "       'yes', 'yes', 'yes', 'yes', 'no', 'yes', 'yes', 'yes', 'yes',\n",
       "       'yes', 'no', 'yes', 'yes', 'yes', 'yes', 'yes', 'yes', 'no', 'yes',\n",
       "       'no', 'no', 'no', 'yes', 'yes', 'yes', 'no', 'no', 'no', 'yes',\n",
       "       'yes', 'yes', 'yes', 'yes', 'yes', 'yes', 'yes', 'no', 'yes', 'no',\n",
       "       'yes', 'yes', 'no', 'yes', 'yes', 'no', 'yes', 'no', 'no', 'yes',\n",
       "       'no', 'yes', 'yes', 'yes', 'yes', 'yes', 'no', 'no', 'yes', 'yes',\n",
       "       'yes', 'no', 'yes', 'yes', 'yes', 'yes', 'yes', 'no', 'yes', 'yes',\n",
       "       'yes', 'no', 'yes', 'yes', 'yes', 'yes', 'yes', 'yes', 'yes', 'no',\n",
       "       'no', 'yes', 'yes', 'no', 'yes', 'yes', 'yes', 'no', 'no', 'yes',\n",
       "       'no', 'yes', 'yes', 'yes', 'yes', 'yes', 'no', 'yes', 'yes', 'no',\n",
       "       'yes', 'yes', 'yes', 'no', 'yes', 'yes', 'yes', 'yes', 'yes',\n",
       "       'yes', 'no', 'no', 'no', 'yes', 'no', 'no', 'no', 'no', 'yes',\n",
       "       'yes', 'yes', 'no', 'yes', 'yes', 'yes', 'no', 'yes', 'yes', 'yes',\n",
       "       'yes', 'no', 'yes', 'yes', 'no', 'yes', 'yes', 'no', 'no', 'yes',\n",
       "       'yes', 'yes', 'yes', 'yes', 'yes', 'yes', 'no', 'yes', 'no', 'yes',\n",
       "       'yes', 'no', 'yes', 'yes', 'no', 'yes', 'yes', 'no', 'yes', 'yes',\n",
       "       'yes', 'no', 'yes', 'yes', 'yes', 'no', 'yes', 'no', 'yes', 'no',\n",
       "       'yes', 'yes', 'no', 'no', 'yes', 'yes', 'no', 'yes', 'yes', 'yes',\n",
       "       'no', 'yes', 'yes', 'no', 'yes', 'yes', 'yes', 'yes', 'no', 'no',\n",
       "       'yes', 'no', 'yes', 'yes', 'yes', 'yes', 'no', 'no', 'yes', 'no',\n",
       "       'yes', 'yes', 'yes', 'yes', 'yes', 'yes', 'no', 'yes', 'yes', 'no',\n",
       "       'yes', 'no', 'yes', 'yes', 'yes', 'yes', 'yes', 'yes', 'yes',\n",
       "       'yes', 'no', 'no', 'yes', 'yes', 'no', 'yes', 'no', 'yes', 'yes',\n",
       "       'no', 'yes', 'yes', 'yes', 'yes', 'no', 'yes', 'no', 'yes', 'yes',\n",
       "       'yes', 'yes', 'yes', 'yes', 'yes', 'yes', 'no', 'no', 'no', 'yes',\n",
       "       'yes', 'no', 'yes', 'yes', 'yes', 'yes', 'yes', 'no', 'yes', 'yes',\n",
       "       'yes', 'no', 'yes', 'yes', 'no', 'yes'], dtype=object)"
      ]
     },
     "execution_count": 208,
     "metadata": {},
     "output_type": "execute_result"
    }
   ],
   "source": [
    "test_pred_tree"
   ]
  },
  {
   "cell_type": "code",
   "execution_count": 209,
   "metadata": {},
   "outputs": [
    {
     "data": {
      "text/plain": [
       "0        1\n",
       "1        2\n",
       "2        3\n",
       "3        4\n",
       "4        5\n",
       "5        6\n",
       "6        7\n",
       "7        8\n",
       "8        9\n",
       "9       10\n",
       "10      11\n",
       "11      12\n",
       "12      13\n",
       "13      14\n",
       "14      15\n",
       "15      16\n",
       "16      17\n",
       "17      18\n",
       "18      19\n",
       "19      20\n",
       "20      21\n",
       "21      22\n",
       "22      23\n",
       "23      24\n",
       "24      25\n",
       "25      26\n",
       "26      27\n",
       "27      28\n",
       "28      29\n",
       "29      30\n",
       "      ... \n",
       "270    271\n",
       "271    272\n",
       "272    273\n",
       "273    274\n",
       "274    275\n",
       "275    276\n",
       "276    277\n",
       "277    278\n",
       "278    279\n",
       "279    280\n",
       "280    281\n",
       "281    282\n",
       "282    283\n",
       "283    284\n",
       "284    285\n",
       "285    286\n",
       "286    287\n",
       "287    288\n",
       "288    289\n",
       "289    290\n",
       "290    291\n",
       "291    292\n",
       "292    293\n",
       "293    294\n",
       "294    295\n",
       "295    296\n",
       "296    297\n",
       "297    298\n",
       "298    299\n",
       "299    300\n",
       "Name: row_id, Length: 300, dtype: object"
      ]
     },
     "execution_count": 209,
     "metadata": {},
     "output_type": "execute_result"
    }
   ],
   "source": [
    "r"
   ]
  },
  {
   "cell_type": "code",
   "execution_count": 210,
   "metadata": {},
   "outputs": [
    {
     "data": {
      "text/plain": [
       "pandas.core.series.Series"
      ]
     },
     "execution_count": 210,
     "metadata": {},
     "output_type": "execute_result"
    }
   ],
   "source": [
    "type(r)"
   ]
  },
  {
   "cell_type": "code",
   "execution_count": 211,
   "metadata": {},
   "outputs": [
    {
     "data": {
      "text/plain": [
       "numpy.ndarray"
      ]
     },
     "execution_count": 211,
     "metadata": {},
     "output_type": "execute_result"
    }
   ],
   "source": [
    "type(test_pred_tree)"
   ]
  },
  {
   "cell_type": "code",
   "execution_count": 212,
   "metadata": {},
   "outputs": [
    {
     "data": {
      "text/html": [
       "<div>\n",
       "<style scoped>\n",
       "    .dataframe tbody tr th:only-of-type {\n",
       "        vertical-align: middle;\n",
       "    }\n",
       "\n",
       "    .dataframe tbody tr th {\n",
       "        vertical-align: top;\n",
       "    }\n",
       "\n",
       "    .dataframe thead th {\n",
       "        text-align: right;\n",
       "    }\n",
       "</style>\n",
       "<table border=\"1\" class=\"dataframe\">\n",
       "  <thead>\n",
       "    <tr style=\"text-align: right;\">\n",
       "      <th></th>\n",
       "      <th>row_id</th>\n",
       "      <th>prediction</th>\n",
       "    </tr>\n",
       "  </thead>\n",
       "  <tbody>\n",
       "    <tr>\n",
       "      <th>0</th>\n",
       "      <td>1</td>\n",
       "      <td>yes</td>\n",
       "    </tr>\n",
       "    <tr>\n",
       "      <th>1</th>\n",
       "      <td>2</td>\n",
       "      <td>yes</td>\n",
       "    </tr>\n",
       "    <tr>\n",
       "      <th>2</th>\n",
       "      <td>3</td>\n",
       "      <td>yes</td>\n",
       "    </tr>\n",
       "    <tr>\n",
       "      <th>3</th>\n",
       "      <td>4</td>\n",
       "      <td>yes</td>\n",
       "    </tr>\n",
       "    <tr>\n",
       "      <th>4</th>\n",
       "      <td>5</td>\n",
       "      <td>yes</td>\n",
       "    </tr>\n",
       "    <tr>\n",
       "      <th>5</th>\n",
       "      <td>6</td>\n",
       "      <td>yes</td>\n",
       "    </tr>\n",
       "    <tr>\n",
       "      <th>6</th>\n",
       "      <td>7</td>\n",
       "      <td>yes</td>\n",
       "    </tr>\n",
       "    <tr>\n",
       "      <th>7</th>\n",
       "      <td>8</td>\n",
       "      <td>yes</td>\n",
       "    </tr>\n",
       "    <tr>\n",
       "      <th>8</th>\n",
       "      <td>9</td>\n",
       "      <td>yes</td>\n",
       "    </tr>\n",
       "    <tr>\n",
       "      <th>9</th>\n",
       "      <td>10</td>\n",
       "      <td>yes</td>\n",
       "    </tr>\n",
       "    <tr>\n",
       "      <th>10</th>\n",
       "      <td>11</td>\n",
       "      <td>yes</td>\n",
       "    </tr>\n",
       "    <tr>\n",
       "      <th>11</th>\n",
       "      <td>12</td>\n",
       "      <td>yes</td>\n",
       "    </tr>\n",
       "    <tr>\n",
       "      <th>12</th>\n",
       "      <td>13</td>\n",
       "      <td>yes</td>\n",
       "    </tr>\n",
       "    <tr>\n",
       "      <th>13</th>\n",
       "      <td>14</td>\n",
       "      <td>yes</td>\n",
       "    </tr>\n",
       "    <tr>\n",
       "      <th>14</th>\n",
       "      <td>15</td>\n",
       "      <td>yes</td>\n",
       "    </tr>\n",
       "    <tr>\n",
       "      <th>15</th>\n",
       "      <td>16</td>\n",
       "      <td>yes</td>\n",
       "    </tr>\n",
       "    <tr>\n",
       "      <th>16</th>\n",
       "      <td>17</td>\n",
       "      <td>yes</td>\n",
       "    </tr>\n",
       "    <tr>\n",
       "      <th>17</th>\n",
       "      <td>18</td>\n",
       "      <td>yes</td>\n",
       "    </tr>\n",
       "    <tr>\n",
       "      <th>18</th>\n",
       "      <td>19</td>\n",
       "      <td>yes</td>\n",
       "    </tr>\n",
       "    <tr>\n",
       "      <th>19</th>\n",
       "      <td>20</td>\n",
       "      <td>yes</td>\n",
       "    </tr>\n",
       "    <tr>\n",
       "      <th>20</th>\n",
       "      <td>21</td>\n",
       "      <td>yes</td>\n",
       "    </tr>\n",
       "    <tr>\n",
       "      <th>21</th>\n",
       "      <td>22</td>\n",
       "      <td>yes</td>\n",
       "    </tr>\n",
       "    <tr>\n",
       "      <th>22</th>\n",
       "      <td>23</td>\n",
       "      <td>yes</td>\n",
       "    </tr>\n",
       "    <tr>\n",
       "      <th>23</th>\n",
       "      <td>24</td>\n",
       "      <td>yes</td>\n",
       "    </tr>\n",
       "    <tr>\n",
       "      <th>24</th>\n",
       "      <td>25</td>\n",
       "      <td>yes</td>\n",
       "    </tr>\n",
       "    <tr>\n",
       "      <th>25</th>\n",
       "      <td>26</td>\n",
       "      <td>no</td>\n",
       "    </tr>\n",
       "    <tr>\n",
       "      <th>26</th>\n",
       "      <td>27</td>\n",
       "      <td>no</td>\n",
       "    </tr>\n",
       "    <tr>\n",
       "      <th>27</th>\n",
       "      <td>28</td>\n",
       "      <td>yes</td>\n",
       "    </tr>\n",
       "    <tr>\n",
       "      <th>28</th>\n",
       "      <td>29</td>\n",
       "      <td>yes</td>\n",
       "    </tr>\n",
       "    <tr>\n",
       "      <th>29</th>\n",
       "      <td>30</td>\n",
       "      <td>yes</td>\n",
       "    </tr>\n",
       "    <tr>\n",
       "      <th>30</th>\n",
       "      <td>31</td>\n",
       "      <td>yes</td>\n",
       "    </tr>\n",
       "    <tr>\n",
       "      <th>31</th>\n",
       "      <td>32</td>\n",
       "      <td>yes</td>\n",
       "    </tr>\n",
       "    <tr>\n",
       "      <th>32</th>\n",
       "      <td>33</td>\n",
       "      <td>yes</td>\n",
       "    </tr>\n",
       "    <tr>\n",
       "      <th>33</th>\n",
       "      <td>34</td>\n",
       "      <td>yes</td>\n",
       "    </tr>\n",
       "    <tr>\n",
       "      <th>34</th>\n",
       "      <td>35</td>\n",
       "      <td>yes</td>\n",
       "    </tr>\n",
       "    <tr>\n",
       "      <th>35</th>\n",
       "      <td>36</td>\n",
       "      <td>yes</td>\n",
       "    </tr>\n",
       "    <tr>\n",
       "      <th>36</th>\n",
       "      <td>37</td>\n",
       "      <td>yes</td>\n",
       "    </tr>\n",
       "    <tr>\n",
       "      <th>37</th>\n",
       "      <td>38</td>\n",
       "      <td>yes</td>\n",
       "    </tr>\n",
       "    <tr>\n",
       "      <th>38</th>\n",
       "      <td>39</td>\n",
       "      <td>yes</td>\n",
       "    </tr>\n",
       "    <tr>\n",
       "      <th>39</th>\n",
       "      <td>40</td>\n",
       "      <td>yes</td>\n",
       "    </tr>\n",
       "    <tr>\n",
       "      <th>40</th>\n",
       "      <td>41</td>\n",
       "      <td>yes</td>\n",
       "    </tr>\n",
       "    <tr>\n",
       "      <th>41</th>\n",
       "      <td>42</td>\n",
       "      <td>no</td>\n",
       "    </tr>\n",
       "    <tr>\n",
       "      <th>42</th>\n",
       "      <td>43</td>\n",
       "      <td>yes</td>\n",
       "    </tr>\n",
       "    <tr>\n",
       "      <th>43</th>\n",
       "      <td>44</td>\n",
       "      <td>yes</td>\n",
       "    </tr>\n",
       "    <tr>\n",
       "      <th>44</th>\n",
       "      <td>45</td>\n",
       "      <td>yes</td>\n",
       "    </tr>\n",
       "    <tr>\n",
       "      <th>45</th>\n",
       "      <td>46</td>\n",
       "      <td>yes</td>\n",
       "    </tr>\n",
       "    <tr>\n",
       "      <th>46</th>\n",
       "      <td>47</td>\n",
       "      <td>yes</td>\n",
       "    </tr>\n",
       "    <tr>\n",
       "      <th>47</th>\n",
       "      <td>48</td>\n",
       "      <td>no</td>\n",
       "    </tr>\n",
       "    <tr>\n",
       "      <th>48</th>\n",
       "      <td>49</td>\n",
       "      <td>yes</td>\n",
       "    </tr>\n",
       "    <tr>\n",
       "      <th>49</th>\n",
       "      <td>50</td>\n",
       "      <td>yes</td>\n",
       "    </tr>\n",
       "  </tbody>\n",
       "</table>\n",
       "</div>"
      ],
      "text/plain": [
       "   row_id prediction\n",
       "0       1        yes\n",
       "1       2        yes\n",
       "2       3        yes\n",
       "3       4        yes\n",
       "4       5        yes\n",
       "5       6        yes\n",
       "6       7        yes\n",
       "7       8        yes\n",
       "8       9        yes\n",
       "9      10        yes\n",
       "10     11        yes\n",
       "11     12        yes\n",
       "12     13        yes\n",
       "13     14        yes\n",
       "14     15        yes\n",
       "15     16        yes\n",
       "16     17        yes\n",
       "17     18        yes\n",
       "18     19        yes\n",
       "19     20        yes\n",
       "20     21        yes\n",
       "21     22        yes\n",
       "22     23        yes\n",
       "23     24        yes\n",
       "24     25        yes\n",
       "25     26         no\n",
       "26     27         no\n",
       "27     28        yes\n",
       "28     29        yes\n",
       "29     30        yes\n",
       "30     31        yes\n",
       "31     32        yes\n",
       "32     33        yes\n",
       "33     34        yes\n",
       "34     35        yes\n",
       "35     36        yes\n",
       "36     37        yes\n",
       "37     38        yes\n",
       "38     39        yes\n",
       "39     40        yes\n",
       "40     41        yes\n",
       "41     42         no\n",
       "42     43        yes\n",
       "43     44        yes\n",
       "44     45        yes\n",
       "45     46        yes\n",
       "46     47        yes\n",
       "47     48         no\n",
       "48     49        yes\n",
       "49     50        yes"
      ]
     },
     "execution_count": 212,
     "metadata": {},
     "output_type": "execute_result"
    }
   ],
   "source": [
    "submission = pd.DataFrame({'row_id':r.values,'prediction': test_pred_tree})\n",
    "submission.head(50)"
   ]
  },
  {
   "cell_type": "markdown",
   "metadata": {},
   "source": [
    "### Saving to SQL"
   ]
  },
  {
   "cell_type": "code",
   "execution_count": 213,
   "metadata": {},
   "outputs": [],
   "source": [
    "submission.to_sql('classification_model_results', con=connection, if_exists='append', index=True,method='multi',chunksize=500)"
   ]
  },
  {
   "cell_type": "code",
   "execution_count": 214,
   "metadata": {},
   "outputs": [
    {
     "data": {
      "text/plain": [
       "['claims_data',\n",
       " 'classification_model_results',\n",
       " 'football_players',\n",
       " 'sysdiagrams',\n",
       " 'test_set',\n",
       " 'test_set2']"
      ]
     },
     "execution_count": 214,
     "metadata": {},
     "output_type": "execute_result"
    }
   ],
   "source": [
    "connection.table_names()"
   ]
  },
  {
   "cell_type": "code",
   "execution_count": null,
   "metadata": {},
   "outputs": [],
   "source": []
  }
 ],
 "metadata": {
  "kernelspec": {
   "display_name": "Python 3",
   "language": "python",
   "name": "python3"
  },
  "language_info": {
   "codemirror_mode": {
    "name": "ipython",
    "version": 3
   },
   "file_extension": ".py",
   "mimetype": "text/x-python",
   "name": "python",
   "nbconvert_exporter": "python",
   "pygments_lexer": "ipython3",
   "version": "3.7.3"
  }
 },
 "nbformat": 4,
 "nbformat_minor": 2
}
