{
 "cells": [
  {
   "cell_type": "markdown",
   "metadata": {},
   "source": [
    "### IMPORT PACKAGES"
   ]
  },
  {
   "cell_type": "code",
   "execution_count": 337,
   "metadata": {},
   "outputs": [
    {
     "name": "stderr",
     "output_type": "stream",
     "text": [
      "UsageError: Line magic function `%` not found.\n"
     ]
    }
   ],
   "source": [
    "import numpy as np\n",
    "import pandas as pd\n",
    "import matplotlib.pyplot as plt\n",
    "import seaborn as sns\n",
    "% matplotlib inline"
   ]
  },
  {
   "cell_type": "code",
   "execution_count": 338,
   "metadata": {},
   "outputs": [],
   "source": [
    "import sqlalchemy as sa\n",
    "from sqlalchemy import create_engine\n",
    "from sqlalchemy import Table, Column, Integer, String, MetaData"
   ]
  },
  {
   "cell_type": "markdown",
   "metadata": {},
   "source": [
    "### CONNECT TO DATA SQLALCHEMY"
   ]
  },
  {
   "cell_type": "code",
   "execution_count": 339,
   "metadata": {},
   "outputs": [],
   "source": [
    "Username = 'admin'\n",
    "Password = 'amazing_people'\n",
    "Host = 'alphacode-explore.ccwgqdqrrmvt.eu-west-1.rds.amazonaws.com'\n",
    "Port = '1433'\n",
    "Database = 'Michael'"
   ]
  },
  {
   "cell_type": "code",
   "execution_count": 340,
   "metadata": {},
   "outputs": [],
   "source": [
    "connection = create_engine(\n",
    "    'mssql+pymssql://' +\n",
    "    Username + ':' + Password + '@' + Host + ':' + Port + '/' + Database\n",
    ")"
   ]
  },
  {
   "cell_type": "markdown",
   "metadata": {},
   "source": [
    "### SQL QUERY"
   ]
  },
  {
   "cell_type": "code",
   "execution_count": 341,
   "metadata": {},
   "outputs": [],
   "source": [
    "sql_query = \"Select * from claims_data\"\n",
    "sql_query = \"Select * from test_set\""
   ]
  },
  {
   "cell_type": "markdown",
   "metadata": {},
   "source": [
    "### CREATING A DATAFRAME"
   ]
  },
  {
   "cell_type": "code",
   "execution_count": 342,
   "metadata": {},
   "outputs": [],
   "source": [
    "df_claims = pd.read_sql_query(sql_query_claims, connection)\n",
    "df_claims['bmi'] = pd.to_numeric(df_claims['bmi'])\n",
    "df_claims['children'] = pd.to_numeric(df_claims['children'])\n",
    "df_claims['steps'] = pd.to_numeric(df_claims['steps'])\n",
    "df_claims['age'] = pd.to_numeric(df_claims['age'])\n",
    "df_claims['claim_amount'] = pd.to_numeric(df_claims['claim_amount'])"
   ]
  },
  {
   "cell_type": "code",
   "execution_count": 343,
   "metadata": {},
   "outputs": [
    {
     "data": {
      "text/html": [
       "<div>\n",
       "<style scoped>\n",
       "    .dataframe tbody tr th:only-of-type {\n",
       "        vertical-align: middle;\n",
       "    }\n",
       "\n",
       "    .dataframe tbody tr th {\n",
       "        vertical-align: top;\n",
       "    }\n",
       "\n",
       "    .dataframe thead th {\n",
       "        text-align: right;\n",
       "    }\n",
       "</style>\n",
       "<table border=\"1\" class=\"dataframe\">\n",
       "  <thead>\n",
       "    <tr style=\"text-align: right;\">\n",
       "      <th></th>\n",
       "      <th>age</th>\n",
       "      <th>sex</th>\n",
       "      <th>bmi</th>\n",
       "      <th>steps</th>\n",
       "      <th>children</th>\n",
       "      <th>smoker</th>\n",
       "      <th>region</th>\n",
       "      <th>insurance_claim</th>\n",
       "      <th>claim_amount</th>\n",
       "    </tr>\n",
       "  </thead>\n",
       "  <tbody>\n",
       "    <tr>\n",
       "      <th>0</th>\n",
       "      <td>19</td>\n",
       "      <td>female</td>\n",
       "      <td>27.90</td>\n",
       "      <td>3009</td>\n",
       "      <td>0</td>\n",
       "      <td>yes</td>\n",
       "      <td>southwest</td>\n",
       "      <td>yes</td>\n",
       "      <td>16884.9240</td>\n",
       "    </tr>\n",
       "    <tr>\n",
       "      <th>1</th>\n",
       "      <td>18</td>\n",
       "      <td>male</td>\n",
       "      <td>33.77</td>\n",
       "      <td>3008</td>\n",
       "      <td>1</td>\n",
       "      <td>no</td>\n",
       "      <td>southeast</td>\n",
       "      <td>yes</td>\n",
       "      <td>1725.5523</td>\n",
       "    </tr>\n",
       "    <tr>\n",
       "      <th>4</th>\n",
       "      <td>32</td>\n",
       "      <td>male</td>\n",
       "      <td>28.88</td>\n",
       "      <td>8010</td>\n",
       "      <td>0</td>\n",
       "      <td>no</td>\n",
       "      <td>northwest</td>\n",
       "      <td>yes</td>\n",
       "      <td>3866.8552</td>\n",
       "    </tr>\n",
       "    <tr>\n",
       "      <th>6</th>\n",
       "      <td>46</td>\n",
       "      <td>female</td>\n",
       "      <td>33.44</td>\n",
       "      <td>3002</td>\n",
       "      <td>1</td>\n",
       "      <td>no</td>\n",
       "      <td>southeast</td>\n",
       "      <td>yes</td>\n",
       "      <td>8240.5896</td>\n",
       "    </tr>\n",
       "    <tr>\n",
       "      <th>10</th>\n",
       "      <td>25</td>\n",
       "      <td>male</td>\n",
       "      <td>26.22</td>\n",
       "      <td>8006</td>\n",
       "      <td>0</td>\n",
       "      <td>no</td>\n",
       "      <td>northeast</td>\n",
       "      <td>yes</td>\n",
       "      <td>2721.3208</td>\n",
       "    </tr>\n",
       "  </tbody>\n",
       "</table>\n",
       "</div>"
      ],
      "text/plain": [
       "    age     sex    bmi  steps  children smoker     region insurance_claim  \\\n",
       "0    19  female  27.90   3009         0    yes  southwest             yes   \n",
       "1    18    male  33.77   3008         1     no  southeast             yes   \n",
       "4    32    male  28.88   8010         0     no  northwest             yes   \n",
       "6    46  female  33.44   3002         1     no  southeast             yes   \n",
       "10   25    male  26.22   8006         0     no  northeast             yes   \n",
       "\n",
       "    claim_amount  \n",
       "0     16884.9240  \n",
       "1      1725.5523  \n",
       "4      3866.8552  \n",
       "6      8240.5896  \n",
       "10     2721.3208  "
      ]
     },
     "execution_count": 343,
     "metadata": {},
     "output_type": "execute_result"
    }
   ],
   "source": [
    "df.head()"
   ]
  },
  {
   "cell_type": "markdown",
   "metadata": {},
   "source": [
    "### POLICY HOLDERS WHO CLAIMED ONLY"
   ]
  },
  {
   "cell_type": "code",
   "execution_count": 344,
   "metadata": {},
   "outputs": [
    {
     "data": {
      "text/html": [
       "<div>\n",
       "<style scoped>\n",
       "    .dataframe tbody tr th:only-of-type {\n",
       "        vertical-align: middle;\n",
       "    }\n",
       "\n",
       "    .dataframe tbody tr th {\n",
       "        vertical-align: top;\n",
       "    }\n",
       "\n",
       "    .dataframe thead th {\n",
       "        text-align: right;\n",
       "    }\n",
       "</style>\n",
       "<table border=\"1\" class=\"dataframe\">\n",
       "  <thead>\n",
       "    <tr style=\"text-align: right;\">\n",
       "      <th></th>\n",
       "      <th>age</th>\n",
       "      <th>sex</th>\n",
       "      <th>bmi</th>\n",
       "      <th>steps</th>\n",
       "      <th>children</th>\n",
       "      <th>smoker</th>\n",
       "      <th>region</th>\n",
       "      <th>insurance_claim</th>\n",
       "      <th>claim_amount</th>\n",
       "    </tr>\n",
       "  </thead>\n",
       "  <tbody>\n",
       "    <tr>\n",
       "      <th>0</th>\n",
       "      <td>19</td>\n",
       "      <td>female</td>\n",
       "      <td>27.90</td>\n",
       "      <td>3009</td>\n",
       "      <td>0</td>\n",
       "      <td>yes</td>\n",
       "      <td>southwest</td>\n",
       "      <td>yes</td>\n",
       "      <td>16884.9240</td>\n",
       "    </tr>\n",
       "    <tr>\n",
       "      <th>1</th>\n",
       "      <td>18</td>\n",
       "      <td>male</td>\n",
       "      <td>33.77</td>\n",
       "      <td>3008</td>\n",
       "      <td>1</td>\n",
       "      <td>no</td>\n",
       "      <td>southeast</td>\n",
       "      <td>yes</td>\n",
       "      <td>1725.5523</td>\n",
       "    </tr>\n",
       "    <tr>\n",
       "      <th>4</th>\n",
       "      <td>32</td>\n",
       "      <td>male</td>\n",
       "      <td>28.88</td>\n",
       "      <td>8010</td>\n",
       "      <td>0</td>\n",
       "      <td>no</td>\n",
       "      <td>northwest</td>\n",
       "      <td>yes</td>\n",
       "      <td>3866.8552</td>\n",
       "    </tr>\n",
       "    <tr>\n",
       "      <th>6</th>\n",
       "      <td>46</td>\n",
       "      <td>female</td>\n",
       "      <td>33.44</td>\n",
       "      <td>3002</td>\n",
       "      <td>1</td>\n",
       "      <td>no</td>\n",
       "      <td>southeast</td>\n",
       "      <td>yes</td>\n",
       "      <td>8240.5896</td>\n",
       "    </tr>\n",
       "    <tr>\n",
       "      <th>10</th>\n",
       "      <td>25</td>\n",
       "      <td>male</td>\n",
       "      <td>26.22</td>\n",
       "      <td>8006</td>\n",
       "      <td>0</td>\n",
       "      <td>no</td>\n",
       "      <td>northeast</td>\n",
       "      <td>yes</td>\n",
       "      <td>2721.3208</td>\n",
       "    </tr>\n",
       "  </tbody>\n",
       "</table>\n",
       "</div>"
      ],
      "text/plain": [
       "    age     sex    bmi  steps  children smoker     region insurance_claim  \\\n",
       "0    19  female  27.90   3009         0    yes  southwest             yes   \n",
       "1    18    male  33.77   3008         1     no  southeast             yes   \n",
       "4    32    male  28.88   8010         0     no  northwest             yes   \n",
       "6    46  female  33.44   3002         1     no  southeast             yes   \n",
       "10   25    male  26.22   8006         0     no  northeast             yes   \n",
       "\n",
       "    claim_amount  \n",
       "0     16884.9240  \n",
       "1      1725.5523  \n",
       "4      3866.8552  \n",
       "6      8240.5896  \n",
       "10     2721.3208  "
      ]
     },
     "execution_count": 344,
     "metadata": {},
     "output_type": "execute_result"
    }
   ],
   "source": [
    "df = df[df['insurance_claim'] == 'yes']\n",
    "df.head()"
   ]
  },
  {
   "cell_type": "markdown",
   "metadata": {},
   "source": [
    "### PRE-PROCESSING"
   ]
  },
  {
   "cell_type": "code",
   "execution_count": 345,
   "metadata": {},
   "outputs": [],
   "source": [
    "# Lables\n",
    "y = df['claim_amount']\n",
    "\n",
    "# Features\n",
    "X = df.drop(['claim_amount', 'insurance_claim'], axis=1)"
   ]
  },
  {
   "cell_type": "code",
   "execution_count": 346,
   "metadata": {},
   "outputs": [],
   "source": [
    "# Transform data\n",
    "X_transformed = pd.get_dummies(X, drop_first=True)"
   ]
  },
  {
   "cell_type": "code",
   "execution_count": 347,
   "metadata": {},
   "outputs": [],
   "source": [
    "# Standardize data\n",
    "from sklearn.preprocessing import StandardScaler\n",
    "scaler = StandardScaler()\n",
    "X_scaled = scaler.fit_transform(X_transformed)\n",
    "X_standardize = pd.DataFrame(X_scaled,columns=X_transformed.columns)"
   ]
  },
  {
   "cell_type": "code",
   "execution_count": 348,
   "metadata": {},
   "outputs": [],
   "source": [
    "from sklearn.model_selection import train_test_split"
   ]
  },
  {
   "cell_type": "code",
   "execution_count": 349,
   "metadata": {},
   "outputs": [],
   "source": [
    "X_train, X_test, y_train, y_test = train_test_split(X_standardize, y, test_size=0.2, random_state=47)"
   ]
  },
  {
   "cell_type": "markdown",
   "metadata": {},
   "source": [
    "### TRAINING"
   ]
  },
  {
   "cell_type": "code",
   "execution_count": 350,
   "metadata": {},
   "outputs": [],
   "source": [
    "from sklearn.neighbors import KNeighborsRegressor\n",
    "from sklearn.linear_model import LinearRegression\n",
    "from sklearn.tree import DecisionTreeRegressor\n",
    "from sklearn.ensemble import RandomForestRegressor\n",
    "from sklearn.svm import SVR"
   ]
  },
  {
   "cell_type": "code",
   "execution_count": 351,
   "metadata": {},
   "outputs": [],
   "source": [
    "knn = KNeighborsRegressor()\n",
    "lm = LinearRegression()\n",
    "tree = DecisionTreeRegressor(random_state=47)\n",
    "forest = RandomForestRegressor(n_estimators=100, random_state=47)\n",
    "svm = SVR(kernel='linear', C=500, gamma=47)"
   ]
  },
  {
   "cell_type": "code",
   "execution_count": 352,
   "metadata": {},
   "outputs": [
    {
     "data": {
      "text/plain": [
       "SVR(C=500, cache_size=200, coef0=0.0, degree=3, epsilon=0.1, gamma=47,\n",
       "    kernel='linear', max_iter=-1, shrinking=True, tol=0.001, verbose=False)"
      ]
     },
     "execution_count": 352,
     "metadata": {},
     "output_type": "execute_result"
    }
   ],
   "source": [
    "knn.fit(X_train, y_train)\n",
    "lm.fit(X_train,y_train)\n",
    "tree.fit(X_train, y_train)\n",
    "forest.fit(X_train, y_train)\n",
    "svm.fit(X_train, y_train)"
   ]
  },
  {
   "cell_type": "markdown",
   "metadata": {},
   "source": [
    "### INTERCEPT ON LinearRegression"
   ]
  },
  {
   "cell_type": "code",
   "execution_count": 353,
   "metadata": {},
   "outputs": [
    {
     "data": {
      "text/plain": [
       "16475.56829692909"
      ]
     },
     "execution_count": 353,
     "metadata": {},
     "output_type": "execute_result"
    }
   ],
   "source": [
    "lm.intercept_"
   ]
  },
  {
   "cell_type": "markdown",
   "metadata": {},
   "source": [
    "### Coefficients"
   ]
  },
  {
   "cell_type": "code",
   "execution_count": 354,
   "metadata": {},
   "outputs": [
    {
     "data": {
      "text/html": [
       "<div>\n",
       "<style scoped>\n",
       "    .dataframe tbody tr th:only-of-type {\n",
       "        vertical-align: middle;\n",
       "    }\n",
       "\n",
       "    .dataframe tbody tr th {\n",
       "        vertical-align: top;\n",
       "    }\n",
       "\n",
       "    .dataframe thead th {\n",
       "        text-align: right;\n",
       "    }\n",
       "</style>\n",
       "<table border=\"1\" class=\"dataframe\">\n",
       "  <thead>\n",
       "    <tr style=\"text-align: right;\">\n",
       "      <th></th>\n",
       "      <th>Coefficient</th>\n",
       "    </tr>\n",
       "  </thead>\n",
       "  <tbody>\n",
       "    <tr>\n",
       "      <th>age</th>\n",
       "      <td>3744.210813</td>\n",
       "    </tr>\n",
       "    <tr>\n",
       "      <th>bmi</th>\n",
       "      <td>3565.289360</td>\n",
       "    </tr>\n",
       "    <tr>\n",
       "      <th>steps</th>\n",
       "      <td>792.604848</td>\n",
       "    </tr>\n",
       "    <tr>\n",
       "      <th>children</th>\n",
       "      <td>969.935929</td>\n",
       "    </tr>\n",
       "    <tr>\n",
       "      <th>sex_male</th>\n",
       "      <td>-25.278476</td>\n",
       "    </tr>\n",
       "    <tr>\n",
       "      <th>smoker_yes</th>\n",
       "      <td>12189.818671</td>\n",
       "    </tr>\n",
       "    <tr>\n",
       "      <th>region_northwest</th>\n",
       "      <td>33.868928</td>\n",
       "    </tr>\n",
       "    <tr>\n",
       "      <th>region_southeast</th>\n",
       "      <td>-476.691160</td>\n",
       "    </tr>\n",
       "    <tr>\n",
       "      <th>region_southwest</th>\n",
       "      <td>-180.974148</td>\n",
       "    </tr>\n",
       "  </tbody>\n",
       "</table>\n",
       "</div>"
      ],
      "text/plain": [
       "                   Coefficient\n",
       "age                3744.210813\n",
       "bmi                3565.289360\n",
       "steps               792.604848\n",
       "children            969.935929\n",
       "sex_male            -25.278476\n",
       "smoker_yes        12189.818671\n",
       "region_northwest     33.868928\n",
       "region_southeast   -476.691160\n",
       "region_southwest   -180.974148"
      ]
     },
     "execution_count": 354,
     "metadata": {},
     "output_type": "execute_result"
    }
   ],
   "source": [
    "coeff_df = pd.DataFrame(lm.coef_,X_transformed.columns,columns=['Coefficient'])\n",
    "coeff_df"
   ]
  },
  {
   "cell_type": "code",
   "execution_count": 310,
   "metadata": {},
   "outputs": [],
   "source": [
    "from sklearn import metrics"
   ]
  },
  {
   "cell_type": "markdown",
   "metadata": {},
   "source": [
    "RMSE"
   ]
  },
  {
   "cell_type": "code",
   "execution_count": 355,
   "metadata": {},
   "outputs": [
    {
     "name": "stdout",
     "output_type": "stream",
     "text": [
      "RMSE (train)\n",
      "Linear: 6129.526584640858\n"
     ]
    }
   ],
   "source": [
    "# Get predictions for training data\n",
    "fit_lm = lm.predict(X_train)\n",
    "\n",
    "# Print MSE for models\n",
    "print('RMSE (train)')\n",
    "print('Linear:', metrics.mean_squared_error(y_train, fit_lm) ** 0.5)"
   ]
  },
  {
   "cell_type": "markdown",
   "metadata": {},
   "source": [
    "### PREDICTING"
   ]
  },
  {
   "cell_type": "code",
   "execution_count": 356,
   "metadata": {},
   "outputs": [],
   "source": [
    "pred_knn = knn.predict(X_test)\n",
    "predictions = lm.predict(X_test)\n",
    "pred_tree = tree.predict(X_test)\n",
    "pred_forest = forest.predict(X_test)\n",
    "pred_svm = svm.predict(X_test)"
   ]
  },
  {
   "cell_type": "markdown",
   "metadata": {},
   "source": [
    "### TESTING"
   ]
  },
  {
   "cell_type": "code",
   "execution_count": 357,
   "metadata": {},
   "outputs": [],
   "source": [
    "from sklearn.metrics import mean_squared_error"
   ]
  },
  {
   "cell_type": "markdown",
   "metadata": {},
   "source": [
    "KNN"
   ]
  },
  {
   "cell_type": "code",
   "execution_count": 358,
   "metadata": {},
   "outputs": [
    {
     "data": {
      "text/plain": [
       "<matplotlib.axes._subplots.AxesSubplot at 0x273a2dbd4a8>"
      ]
     },
     "execution_count": 358,
     "metadata": {},
     "output_type": "execute_result"
    },
    {
     "data": {
      "image/png": "[encoded data removed]",
      "text/plain": [
       "<Figure size 360x360 with 1 Axes>"
      ]
     },
     "metadata": {
      "needs_background": "light"
     },
     "output_type": "display_data"
    }
   ],
   "source": [
    "# Create figure and axes\n",
    "f, ax = plt.subplots(figsize=(5,5))\n",
    "\n",
    "# Plot on axes\n",
    "ax.set_title('Actual vs Predicted')\n",
    "ax.set_ylabel('Predicted')\n",
    "ax.set_xlim(0, 70000)\n",
    "ax.set_ylim(0, 70000)\n",
    "\n",
    "sns.regplot(x=y_test, y=pred_knn)"
   ]
  },
  {
   "cell_type": "markdown",
   "metadata": {},
   "source": [
    "LINEAR"
   ]
  },
  {
   "cell_type": "code",
   "execution_count": 359,
   "metadata": {},
   "outputs": [
    {
     "data": {
      "text/plain": [
       "<matplotlib.axes._subplots.AxesSubplot at 0x2739fc1d0f0>"
      ]
     },
     "execution_count": 359,
     "metadata": {},
     "output_type": "execute_result"
    },
    {
     "data": {
      "image/png": "[encoded data removed]",
      "text/plain": [
       "<Figure size 360x360 with 1 Axes>"
      ]
     },
     "metadata": {
      "needs_background": "light"
     },
     "output_type": "display_data"
    }
   ],
   "source": [
    "# Create figure and axes\n",
    "f, ax = plt.subplots(figsize=(5,5))\n",
    "\n",
    "# Plot on axes\n",
    "ax.set_title('Actual vs Predicted')\n",
    "ax.set_xlabel('Actual')\n",
    "ax.set_ylabel('Predicted')\n",
    "ax.set_xlim(0, 70000)\n",
    "ax.set_ylim(0, 70000)\n",
    "\n",
    "sns.regplot(x=y_test, y=predictions)"
   ]
  },
  {
   "cell_type": "markdown",
   "metadata": {},
   "source": [
    "DECISION TREE"
   ]
  },
  {
   "cell_type": "code",
   "execution_count": 360,
   "metadata": {},
   "outputs": [],
   "source": [
    "from sklearn.metrics import mean_squared_error"
   ]
  },
  {
   "cell_type": "code",
   "execution_count": 317,
   "metadata": {},
   "outputs": [
    {
     "data": {
      "text/plain": [
       "<matplotlib.axes._subplots.AxesSubplot at 0x273a056b978>"
      ]
     },
     "execution_count": 317,
     "metadata": {},
     "output_type": "execute_result"
    },
    {
     "data": {
      "image/png": "[encoded data removed]",
      "text/plain": [
       "<Figure size 360x360 with 1 Axes>"
      ]
     },
     "metadata": {
      "needs_background": "light"
     },
     "output_type": "display_data"
    }
   ],
   "source": [
    "# Create figure and axes\n",
    "f, ax = plt.subplots(figsize=(5,5))\n",
    "\n",
    "# Plot on axes\n",
    "ax.set_title('Actual vs Predicted')\n",
    "ax.set_ylabel('Predicted')\n",
    "ax.set_xlim(0, 70000)\n",
    "ax.set_ylim(0, 70000)\n",
    "\n",
    "sns.regplot(x=y_test, y=pred_tree)"
   ]
  },
  {
   "cell_type": "markdown",
   "metadata": {},
   "source": [
    "RANDOM FOREST"
   ]
  },
  {
   "cell_type": "code",
   "execution_count": 361,
   "metadata": {},
   "outputs": [
    {
     "data": {
      "text/plain": [
       "<matplotlib.axes._subplots.AxesSubplot at 0x2739f5751d0>"
      ]
     },
     "execution_count": 361,
     "metadata": {},
     "output_type": "execute_result"
    },
    {
     "data": {
      "image/png": "[encoded data removed]",
      "text/plain": [
       "<Figure size 360x360 with 1 Axes>"
      ]
     },
     "metadata": {
      "needs_background": "light"
     },
     "output_type": "display_data"
    }
   ],
   "source": [
    "# Create figure and axes\n",
    "f, ax = plt.subplots(figsize=(5,5))\n",
    "\n",
    "# Plot on axes\n",
    "ax.set_title('Actual vs Predicted')\n",
    "ax.set_ylabel('Predicted')\n",
    "ax.set_xlim(0, 70000)\n",
    "ax.set_ylim(0, 70000)\n",
    "\n",
    "sns.regplot(x=y_test, y=pred_forest)"
   ]
  },
  {
   "cell_type": "markdown",
   "metadata": {},
   "source": [
    "SVM"
   ]
  },
  {
   "cell_type": "code",
   "execution_count": 362,
   "metadata": {},
   "outputs": [
    {
     "data": {
      "text/plain": [
       "<matplotlib.axes._subplots.AxesSubplot at 0x273a2f024e0>"
      ]
     },
     "execution_count": 362,
     "metadata": {},
     "output_type": "execute_result"
    },
    {
     "data": {
      "image/png": "[encoded data removed]",
      "text/plain": [
       "<Figure size 360x360 with 1 Axes>"
      ]
     },
     "metadata": {
      "needs_background": "light"
     },
     "output_type": "display_data"
    }
   ],
   "source": [
    "# Create figure and axes\n",
    "f, ax = plt.subplots(figsize=(5,5))\n",
    "\n",
    "# Plot on axes\n",
    "ax.set_title('Actual vs Predicted')\n",
    "ax.set_ylabel('Predicted')\n",
    "ax.set_xlim(0, 70000)\n",
    "ax.set_ylim(0, 70000)\n",
    "\n",
    "sns.regplot(x=y_test, y=pred_svm)"
   ]
  },
  {
   "cell_type": "code",
   "execution_count": 363,
   "metadata": {},
   "outputs": [
    {
     "name": "stdout",
     "output_type": "stream",
     "text": [
      "RMSE: 5938.149929383489\n",
      "RMSE: 6111.2832738978195\n",
      "RMSE: 6056.490485266752\n",
      "RMSE: 4621.029380048193\n",
      "RMSE: 7529.111631044374\n"
     ]
    }
   ],
   "source": [
    "print('RMSE:', mean_squared_error(y_test, pred_knn) ** 0.5)\n",
    "print('RMSE:', metrics.mean_squared_error(y_test, predictions) ** 0.5)\n",
    "print('RMSE:', mean_squared_error(y_test, pred_tree) ** 0.5)\n",
    "print('RMSE:', mean_squared_error(y_test, pred_forest) ** 0.5)\n",
    "print('RMSE:', mean_squared_error(y_test, pred_svm) ** 0.5)"
   ]
  },
  {
   "cell_type": "markdown",
   "metadata": {},
   "source": [
    "### RANDOM FOREST HAS THE LOWEST RMSE"
   ]
  },
  {
   "cell_type": "markdown",
   "metadata": {},
   "source": [
    "TUNING RANDOM FOREST MODEL"
   ]
  },
  {
   "cell_type": "markdown",
   "metadata": {},
   "source": [
    "### Train"
   ]
  },
  {
   "cell_type": "code",
   "execution_count": 364,
   "metadata": {},
   "outputs": [],
   "source": [
    "# 5 trees in forest\n",
    "forest_1 = RandomForestRegressor(n_estimators=5, random_state=47)\n",
    "\n",
    "# 20 trees in forest\n",
    "forest_2 = RandomForestRegressor(n_estimators=20, random_state=47)\n",
    "\n",
    "# 100 trees in forest\n",
    "forest_3 = RandomForestRegressor(n_estimators=100, random_state=47)"
   ]
  },
  {
   "cell_type": "code",
   "execution_count": 365,
   "metadata": {},
   "outputs": [
    {
     "data": {
      "text/plain": [
       "RandomForestRegressor(bootstrap=True, criterion='mse', max_depth=None,\n",
       "                      max_features='auto', max_leaf_nodes=None,\n",
       "                      min_impurity_decrease=0.0, min_impurity_split=None,\n",
       "                      min_samples_leaf=1, min_samples_split=2,\n",
       "                      min_weight_fraction_leaf=0.0, n_estimators=5, n_jobs=None,\n",
       "                      oob_score=False, random_state=47, verbose=0,\n",
       "                      warm_start=False)"
      ]
     },
     "execution_count": 365,
     "metadata": {},
     "output_type": "execute_result"
    }
   ],
   "source": [
    "forest_1.fit(X_train, y_train)"
   ]
  },
  {
   "cell_type": "code",
   "execution_count": 366,
   "metadata": {},
   "outputs": [
    {
     "data": {
      "text/plain": [
       "RandomForestRegressor(bootstrap=True, criterion='mse', max_depth=None,\n",
       "                      max_features='auto', max_leaf_nodes=None,\n",
       "                      min_impurity_decrease=0.0, min_impurity_split=None,\n",
       "                      min_samples_leaf=1, min_samples_split=2,\n",
       "                      min_weight_fraction_leaf=0.0, n_estimators=20,\n",
       "                      n_jobs=None, oob_score=False, random_state=47, verbose=0,\n",
       "                      warm_start=False)"
      ]
     },
     "execution_count": 366,
     "metadata": {},
     "output_type": "execute_result"
    }
   ],
   "source": [
    "forest_2.fit(X_train, y_train)"
   ]
  },
  {
   "cell_type": "code",
   "execution_count": 367,
   "metadata": {},
   "outputs": [
    {
     "data": {
      "text/plain": [
       "RandomForestRegressor(bootstrap=True, criterion='mse', max_depth=None,\n",
       "                      max_features='auto', max_leaf_nodes=None,\n",
       "                      min_impurity_decrease=0.0, min_impurity_split=None,\n",
       "                      min_samples_leaf=1, min_samples_split=2,\n",
       "                      min_weight_fraction_leaf=0.0, n_estimators=100,\n",
       "                      n_jobs=None, oob_score=False, random_state=47, verbose=0,\n",
       "                      warm_start=False)"
      ]
     },
     "execution_count": 367,
     "metadata": {},
     "output_type": "execute_result"
    }
   ],
   "source": [
    "forest_3.fit(X_train, y_train)"
   ]
  },
  {
   "cell_type": "markdown",
   "metadata": {},
   "source": [
    "### Predict"
   ]
  },
  {
   "cell_type": "code",
   "execution_count": 368,
   "metadata": {},
   "outputs": [],
   "source": [
    "pred_forest_1 = forest_1.predict(X_test)\n",
    "pred_forest_2 = forest_2.predict(X_test)\n",
    "pred_forest_3 = forest_3.predict(X_test)"
   ]
  },
  {
   "cell_type": "markdown",
   "metadata": {},
   "source": [
    "### Test"
   ]
  },
  {
   "cell_type": "code",
   "execution_count": 369,
   "metadata": {},
   "outputs": [
    {
     "data": {
      "image/png": "[encoded data removed]",
      "text/plain": [
       "<Figure size 1080x360 with 3 Axes>"
      ]
     },
     "metadata": {
      "needs_background": "light"
     },
     "output_type": "display_data"
    }
   ],
   "source": [
    "# Create figure and axes\n",
    "f, ax = plt.subplots(figsize=(15,5), nrows=1, ncols=3)\n",
    "\n",
    "# Create list of titles and predictions to use in for loop\n",
    "pred = [pred_forest_1, pred_forest_2, pred_forest_3]\n",
    "title = ['trees = 5', 'trees = 20', 'trees = 100']\n",
    "\n",
    "# Loop through all axes to plot each model's results \n",
    "for i in range(3):\n",
    "    ax[i].set_title(title[i])\n",
    "    ax[i].set_xlabel('Actual')\n",
    "    ax[i].set_ylabel('Predicted')\n",
    "    ax[i].set_xlim(0, 70000)\n",
    "    ax[i].set_ylim(0, 70000)\n",
    "    sns.regplot(x=y_test, y=pred[i], ax=ax[i]) "
   ]
  },
  {
   "cell_type": "markdown",
   "metadata": {},
   "source": [
    "RMSE"
   ]
  },
  {
   "cell_type": "code",
   "execution_count": 370,
   "metadata": {},
   "outputs": [
    {
     "name": "stdout",
     "output_type": "stream",
     "text": [
      "RMSE:\n",
      "trees=5: 4735.857329619374\n",
      "trees=20: 4678.020773028189\n",
      "trees=100: 4621.029380048193\n"
     ]
    }
   ],
   "source": [
    "print('RMSE:')\n",
    "print('trees=5:', mean_squared_error(y_test, pred_forest_1) ** 0.5)\n",
    "print('trees=20:', mean_squared_error(y_test, pred_forest_2) ** 0.5)\n",
    "print('trees=100:', mean_squared_error(y_test, pred_forest_3) ** 0.5)"
   ]
  },
  {
   "cell_type": "markdown",
   "metadata": {},
   "source": [
    "THE FOREST WITH 100 TREES PERFORMED BEST"
   ]
  },
  {
   "cell_type": "code",
   "execution_count": 371,
   "metadata": {},
   "outputs": [],
   "source": [
    "sql_query_claims = \"Select * from claims_data\"\n",
    "sql_query_test = \"Select * from test_set\"\n",
    "\n",
    "df_claims = pd.read_sql_query(sql_query_claims, connection)\n",
    "df = df[df['insurance_claim'] == 'yes']\n",
    "df_claims['bmi'] = pd.to_numeric(df_claims['bmi'])\n",
    "df_claims['children'] = pd.to_numeric(df_claims['children'])\n",
    "df_claims['steps'] = pd.to_numeric(df_claims['steps'])\n",
    "df_claims['age'] = pd.to_numeric(df_claims['age'])\n",
    "df_claims['claim_amount'] = pd.to_numeric(df_claims['claim_amount'])\n",
    "\n",
    "df_test = pd.read_sql_query(sql_query_test, connection)\n",
    "\n",
    "df_claims_no_labels = df_claims.drop(['insurance_claim', 'claim_amount'], axis=1)\n",
    "df_test_no_index = df_test.drop(['row_id'], axis=1)\n",
    "\n",
    "df_combined = pd.concat([df_claims_no_labels, df_test_no_index],sort=False).reset_index(drop=True)"
   ]
  },
  {
   "cell_type": "markdown",
   "metadata": {},
   "source": [
    "TRANSFORM FEATURES"
   ]
  },
  {
   "cell_type": "code",
   "execution_count": 372,
   "metadata": {},
   "outputs": [],
   "source": [
    "combined_transformed = pd.get_dummies(df_combined, drop_first=True)\n",
    "\n",
    "X_transformed = combined_transformed.iloc[:len(y), :]\n",
    "test_transformed = combined_transformed.iloc[len(y):, :]"
   ]
  },
  {
   "cell_type": "markdown",
   "metadata": {},
   "source": [
    "### TRAIN/SPLIT TEST"
   ]
  },
  {
   "cell_type": "code",
   "execution_count": 373,
   "metadata": {},
   "outputs": [],
   "source": [
    "from sklearn.model_selection import train_test_split\n",
    "\n",
    "\n",
    "X_train, X_test, y_train, y_test = train_test_split(X_transformed, y, test_size=0.2, random_state=47)"
   ]
  },
  {
   "cell_type": "markdown",
   "metadata": {},
   "source": [
    "TRAINING"
   ]
  },
  {
   "cell_type": "code",
   "execution_count": 374,
   "metadata": {},
   "outputs": [
    {
     "data": {
      "text/plain": [
       "RandomForestRegressor(bootstrap=True, criterion='mse', max_depth=None,\n",
       "                      max_features='auto', max_leaf_nodes=None,\n",
       "                      min_impurity_decrease=0.0, min_impurity_split=None,\n",
       "                      min_samples_leaf=1, min_samples_split=2,\n",
       "                      min_weight_fraction_leaf=0.0, n_estimators=100,\n",
       "                      n_jobs=None, oob_score=False, random_state=47, verbose=0,\n",
       "                      warm_start=False)"
      ]
     },
     "execution_count": 374,
     "metadata": {},
     "output_type": "execute_result"
    }
   ],
   "source": [
    "from sklearn.ensemble import RandomForestRegressor\n",
    "\n",
    "forest = RandomForestRegressor(n_estimators=100, random_state=47)\n",
    "forest.fit(X_train, y_train)"
   ]
  },
  {
   "cell_type": "markdown",
   "metadata": {},
   "source": [
    "### TESTING PREDICTION"
   ]
  },
  {
   "cell_type": "code",
   "execution_count": 375,
   "metadata": {},
   "outputs": [
    {
     "data": {
      "text/plain": [
       "<matplotlib.axes._subplots.AxesSubplot at 0x2739fb03358>"
      ]
     },
     "execution_count": 375,
     "metadata": {},
     "output_type": "execute_result"
    },
    {
     "data": {
      "image/png": "[encoded data removed]",
      "text/plain": [
       "<Figure size 360x360 with 1 Axes>"
      ]
     },
     "metadata": {
      "needs_background": "light"
     },
     "output_type": "display_data"
    }
   ],
   "source": [
    "# Create figure and axes\n",
    "f, ax = plt.subplots(figsize=(5,5))\n",
    "\n",
    "# Plot on axes\n",
    "ax.set_title('Actual vs Predicted')\n",
    "ax.set_ylabel('Predicted')\n",
    "ax.set_xlim(0, 70000)\n",
    "ax.set_ylim(0, 70000)\n",
    "\n",
    "sns.regplot(x=y_test, y=pred_forest)"
   ]
  },
  {
   "cell_type": "code",
   "execution_count": 376,
   "metadata": {},
   "outputs": [
    {
     "name": "stdout",
     "output_type": "stream",
     "text": [
      "Random Forest RMSE: 4621.029380048193\n"
     ]
    }
   ],
   "source": [
    "from sklearn import metrics\n",
    "\n",
    "print('Random Forest RMSE:', metrics.mean_squared_error(y_test, pred_forest) ** 0.5)"
   ]
  },
  {
   "cell_type": "markdown",
   "metadata": {},
   "source": [
    "### IMRPOVING MODEL"
   ]
  },
  {
   "cell_type": "code",
   "execution_count": 377,
   "metadata": {},
   "outputs": [
    {
     "data": {
      "text/html": [
       "<div>\n",
       "<style scoped>\n",
       "    .dataframe tbody tr th:only-of-type {\n",
       "        vertical-align: middle;\n",
       "    }\n",
       "\n",
       "    .dataframe tbody tr th {\n",
       "        vertical-align: top;\n",
       "    }\n",
       "\n",
       "    .dataframe thead th {\n",
       "        text-align: right;\n",
       "    }\n",
       "</style>\n",
       "<table border=\"1\" class=\"dataframe\">\n",
       "  <thead>\n",
       "    <tr style=\"text-align: right;\">\n",
       "      <th></th>\n",
       "      <th>age_19</th>\n",
       "      <th>age_20</th>\n",
       "      <th>age_21</th>\n",
       "      <th>age_22</th>\n",
       "      <th>age_23</th>\n",
       "      <th>age_24</th>\n",
       "      <th>age_25</th>\n",
       "      <th>age_26</th>\n",
       "      <th>age_27</th>\n",
       "      <th>age_28</th>\n",
       "      <th>...</th>\n",
       "      <th>children_0</th>\n",
       "      <th>children_1</th>\n",
       "      <th>children_2</th>\n",
       "      <th>children_3</th>\n",
       "      <th>children_4</th>\n",
       "      <th>children_5</th>\n",
       "      <th>smoker_yes</th>\n",
       "      <th>region_northwest</th>\n",
       "      <th>region_southeast</th>\n",
       "      <th>region_southwest</th>\n",
       "    </tr>\n",
       "  </thead>\n",
       "  <tbody>\n",
       "    <tr>\n",
       "      <th>0</th>\n",
       "      <td>3.957218</td>\n",
       "      <td>-0.144432</td>\n",
       "      <td>-0.148974</td>\n",
       "      <td>-0.129935</td>\n",
       "      <td>-0.119368</td>\n",
       "      <td>-0.144432</td>\n",
       "      <td>-0.124757</td>\n",
       "      <td>-0.134928</td>\n",
       "      <td>-0.157699</td>\n",
       "      <td>-0.144432</td>\n",
       "      <td>...</td>\n",
       "      <td>0.0</td>\n",
       "      <td>0.0</td>\n",
       "      <td>0.0</td>\n",
       "      <td>0.0</td>\n",
       "      <td>0.0</td>\n",
       "      <td>0.0</td>\n",
       "      <td>2.020994</td>\n",
       "      <td>-0.548329</td>\n",
       "      <td>-0.627087</td>\n",
       "      <td>1.779015</td>\n",
       "    </tr>\n",
       "    <tr>\n",
       "      <th>1</th>\n",
       "      <td>-0.252703</td>\n",
       "      <td>-0.144432</td>\n",
       "      <td>-0.148974</td>\n",
       "      <td>-0.129935</td>\n",
       "      <td>-0.119368</td>\n",
       "      <td>-0.144432</td>\n",
       "      <td>-0.124757</td>\n",
       "      <td>-0.134928</td>\n",
       "      <td>-0.157699</td>\n",
       "      <td>-0.144432</td>\n",
       "      <td>...</td>\n",
       "      <td>0.0</td>\n",
       "      <td>0.0</td>\n",
       "      <td>0.0</td>\n",
       "      <td>0.0</td>\n",
       "      <td>0.0</td>\n",
       "      <td>0.0</td>\n",
       "      <td>-0.494806</td>\n",
       "      <td>-0.548329</td>\n",
       "      <td>1.594674</td>\n",
       "      <td>-0.562109</td>\n",
       "    </tr>\n",
       "    <tr>\n",
       "      <th>2</th>\n",
       "      <td>-0.252703</td>\n",
       "      <td>-0.144432</td>\n",
       "      <td>-0.148974</td>\n",
       "      <td>-0.129935</td>\n",
       "      <td>-0.119368</td>\n",
       "      <td>-0.144432</td>\n",
       "      <td>-0.124757</td>\n",
       "      <td>-0.134928</td>\n",
       "      <td>-0.157699</td>\n",
       "      <td>6.923691</td>\n",
       "      <td>...</td>\n",
       "      <td>0.0</td>\n",
       "      <td>0.0</td>\n",
       "      <td>0.0</td>\n",
       "      <td>0.0</td>\n",
       "      <td>0.0</td>\n",
       "      <td>0.0</td>\n",
       "      <td>-0.494806</td>\n",
       "      <td>-0.548329</td>\n",
       "      <td>1.594674</td>\n",
       "      <td>-0.562109</td>\n",
       "    </tr>\n",
       "    <tr>\n",
       "      <th>3</th>\n",
       "      <td>-0.252703</td>\n",
       "      <td>-0.144432</td>\n",
       "      <td>-0.148974</td>\n",
       "      <td>-0.129935</td>\n",
       "      <td>-0.119368</td>\n",
       "      <td>-0.144432</td>\n",
       "      <td>-0.124757</td>\n",
       "      <td>-0.134928</td>\n",
       "      <td>-0.157699</td>\n",
       "      <td>-0.144432</td>\n",
       "      <td>...</td>\n",
       "      <td>0.0</td>\n",
       "      <td>0.0</td>\n",
       "      <td>0.0</td>\n",
       "      <td>0.0</td>\n",
       "      <td>0.0</td>\n",
       "      <td>0.0</td>\n",
       "      <td>-0.494806</td>\n",
       "      <td>1.823723</td>\n",
       "      <td>-0.627087</td>\n",
       "      <td>-0.562109</td>\n",
       "    </tr>\n",
       "    <tr>\n",
       "      <th>4</th>\n",
       "      <td>-0.252703</td>\n",
       "      <td>-0.144432</td>\n",
       "      <td>-0.148974</td>\n",
       "      <td>-0.129935</td>\n",
       "      <td>-0.119368</td>\n",
       "      <td>-0.144432</td>\n",
       "      <td>-0.124757</td>\n",
       "      <td>-0.134928</td>\n",
       "      <td>-0.157699</td>\n",
       "      <td>-0.144432</td>\n",
       "      <td>...</td>\n",
       "      <td>0.0</td>\n",
       "      <td>0.0</td>\n",
       "      <td>0.0</td>\n",
       "      <td>0.0</td>\n",
       "      <td>0.0</td>\n",
       "      <td>0.0</td>\n",
       "      <td>-0.494806</td>\n",
       "      <td>1.823723</td>\n",
       "      <td>-0.627087</td>\n",
       "      <td>-0.562109</td>\n",
       "    </tr>\n",
       "  </tbody>\n",
       "</table>\n",
       "<p>5 rows × 1277 columns</p>\n",
       "</div>"
      ],
      "text/plain": [
       "     age_19    age_20    age_21    age_22    age_23    age_24    age_25  \\\n",
       "0  3.957218 -0.144432 -0.148974 -0.129935 -0.119368 -0.144432 -0.124757   \n",
       "1 -0.252703 -0.144432 -0.148974 -0.129935 -0.119368 -0.144432 -0.124757   \n",
       "2 -0.252703 -0.144432 -0.148974 -0.129935 -0.119368 -0.144432 -0.124757   \n",
       "3 -0.252703 -0.144432 -0.148974 -0.129935 -0.119368 -0.144432 -0.124757   \n",
       "4 -0.252703 -0.144432 -0.148974 -0.129935 -0.119368 -0.144432 -0.124757   \n",
       "\n",
       "     age_26    age_27    age_28  ...  children_0  children_1  children_2  \\\n",
       "0 -0.134928 -0.157699 -0.144432  ...         0.0         0.0         0.0   \n",
       "1 -0.134928 -0.157699 -0.144432  ...         0.0         0.0         0.0   \n",
       "2 -0.134928 -0.157699  6.923691  ...         0.0         0.0         0.0   \n",
       "3 -0.134928 -0.157699 -0.144432  ...         0.0         0.0         0.0   \n",
       "4 -0.134928 -0.157699 -0.144432  ...         0.0         0.0         0.0   \n",
       "\n",
       "   children_3  children_4  children_5  smoker_yes  region_northwest  \\\n",
       "0         0.0         0.0         0.0    2.020994         -0.548329   \n",
       "1         0.0         0.0         0.0   -0.494806         -0.548329   \n",
       "2         0.0         0.0         0.0   -0.494806         -0.548329   \n",
       "3         0.0         0.0         0.0   -0.494806          1.823723   \n",
       "4         0.0         0.0         0.0   -0.494806          1.823723   \n",
       "\n",
       "   region_southeast  region_southwest  \n",
       "0         -0.627087          1.779015  \n",
       "1          1.594674         -0.562109  \n",
       "2          1.594674         -0.562109  \n",
       "3         -0.627087         -0.562109  \n",
       "4         -0.627087         -0.562109  \n",
       "\n",
       "[5 rows x 1277 columns]"
      ]
     },
     "execution_count": 377,
     "metadata": {},
     "output_type": "execute_result"
    }
   ],
   "source": [
    "from sklearn.preprocessing import StandardScaler\n",
    "\n",
    "scaler = StandardScaler()\n",
    "X_scaled = scaler.fit_transform(X_transformed)\n",
    "\n",
    "X_standardize = pd.DataFrame(X_scaled,columns=X_transformed.columns)\n",
    "X_standardize.head()"
   ]
  },
  {
   "cell_type": "code",
   "execution_count": 378,
   "metadata": {},
   "outputs": [],
   "source": [
    "X_train, X_test, y_train, y_test = train_test_split(X_standardize, y, test_size=0.2, random_state=47)"
   ]
  },
  {
   "cell_type": "code",
   "execution_count": 379,
   "metadata": {},
   "outputs": [
    {
     "data": {
      "text/html": [
       "<div>\n",
       "<style scoped>\n",
       "    .dataframe tbody tr th:only-of-type {\n",
       "        vertical-align: middle;\n",
       "    }\n",
       "\n",
       "    .dataframe tbody tr th {\n",
       "        vertical-align: top;\n",
       "    }\n",
       "\n",
       "    .dataframe thead th {\n",
       "        text-align: right;\n",
       "    }\n",
       "</style>\n",
       "<table border=\"1\" class=\"dataframe\">\n",
       "  <thead>\n",
       "    <tr style=\"text-align: right;\">\n",
       "      <th></th>\n",
       "      <th>Intercept</th>\n",
       "    </tr>\n",
       "  </thead>\n",
       "  <tbody>\n",
       "    <tr>\n",
       "      <th>Linear</th>\n",
       "      <td>-2.536989e+16</td>\n",
       "    </tr>\n",
       "    <tr>\n",
       "      <th>Ridge</th>\n",
       "      <td>1.591621e+04</td>\n",
       "    </tr>\n",
       "    <tr>\n",
       "      <th>Lasso</th>\n",
       "      <td>1.589253e+04</td>\n",
       "    </tr>\n",
       "  </tbody>\n",
       "</table>\n",
       "</div>"
      ],
      "text/plain": [
       "           Intercept\n",
       "Linear -2.536989e+16\n",
       "Ridge   1.591621e+04\n",
       "Lasso   1.589253e+04"
      ]
     },
     "execution_count": 379,
     "metadata": {},
     "output_type": "execute_result"
    }
   ],
   "source": [
    "from sklearn.linear_model import LinearRegression\n",
    "from sklearn.linear_model import Ridge\n",
    "from sklearn.linear_model import Lasso\n",
    "\n",
    "lm = LinearRegression()\n",
    "ridge = Ridge(alpha=10)\n",
    "lasso = Lasso(alpha=100)\n",
    "\n",
    "lm.fit(X_train,y_train)\n",
    "ridge.fit(X_train,y_train)\n",
    "lasso.fit(X_train,y_train)\n",
    "\n",
    "pd.DataFrame(np.array([lm.intercept_, ridge.intercept_, lasso.intercept_]),\n",
    "             columns=['Intercept'], \n",
    "             index=['Linear', 'Ridge', 'Lasso'])"
   ]
  },
  {
   "cell_type": "markdown",
   "metadata": {},
   "source": [
    "### TUNING"
   ]
  },
  {
   "cell_type": "code",
   "execution_count": 381,
   "metadata": {},
   "outputs": [
    {
     "name": "stdout",
     "output_type": "stream",
     "text": [
      "\n",
      "Tuned Random Forest RMSE:\n",
      "trees=5: 17520.324109349516\n",
      "trees=20: 16803.80127197646\n",
      "trees=100: 16505.967566129628\n"
     ]
    },
    {
     "data": {
      "image/png": "[encoded data removed]",
      "text/plain": [
       "<Figure size 1080x360 with 3 Axes>"
      ]
     },
     "metadata": {
      "needs_background": "light"
     },
     "output_type": "display_data"
    }
   ],
   "source": [
    "# 5 trees in forest\n",
    "forest_1 = RandomForestRegressor(n_estimators=5, random_state=47)\n",
    "# 20 trees in forest\n",
    "forest_2 = RandomForestRegressor(n_estimators=20, random_state=47)\n",
    "# 100 trees in forest\n",
    "forest_3 = RandomForestRegressor(n_estimators=100, random_state=47)\n",
    "\n",
    "forest_1.fit(X_train, y_train)\n",
    "forest_2.fit(X_train, y_train)\n",
    "forest_3.fit(X_train, y_train)\n",
    "\n",
    "pred_forest_1 = forest_1.predict(X_test)\n",
    "pred_forest_2 = forest_2.predict(X_test)\n",
    "pred_forest_3 = forest_3.predict(X_test)\n",
    "\n",
    "# Create figure and axes\n",
    "f, ax = plt.subplots(figsize=(15,5), nrows=1, ncols=3)\n",
    "    \n",
    "# Create list of titles and predictions to use in for loop\n",
    "pred = [pred_forest_1, pred_forest_2, pred_forest_3]\n",
    "title = ['trees = 5', 'trees = 20', 'trees = 100']\n",
    "\n",
    "# Loop through all axes to plot each model's results \n",
    "for i in range(3):\n",
    "    ax[i].set_title(title[i])\n",
    "    ax[i].set_xlabel('Actual')\n",
    "    ax[i].set_ylabel('Predicted')\n",
    "    ax[i].set_xlim(0, 70000)\n",
    "    ax[i].set_ylim(0, 70000)\n",
    "    sns.regplot(x=y_test, y=pred[i], ax=ax[i])\n",
    "    \n",
    "print('')\n",
    "print('Tuned Random Forest RMSE:')\n",
    "print('trees=5:', metrics.mean_squared_error(y_test, pred_forest_1) ** 0.5)\n",
    "print('trees=20:', metrics.mean_squared_error(y_test, pred_forest_2) ** 0.5)\n",
    "print('trees=100:', metrics.mean_squared_error(y_test, pred_forest_3) ** 0.5)    "
   ]
  },
  {
   "cell_type": "code",
   "execution_count": 382,
   "metadata": {},
   "outputs": [
    {
     "data": {
      "text/plain": [
       "array([9252.9346841, 5405.5746365, 7304.3332685, 5210.0482843,\n",
       "       4022.0479673, 5210.0482843, 4653.181933 , 4653.181933 ,\n",
       "       7304.3332685, 5210.0482843, 3763.2638425, 4093.785407 ,\n",
       "       4827.6321213, 5017.8046415, 6316.789524 , 7304.3332685,\n",
       "       4499.8025603, 5405.5746365, 4653.181933 , 8372.406901 ,\n",
       "       3763.2638425, 4653.181933 , 4022.0479673, 5420.9260196,\n",
       "       4022.0479673, 4653.181933 , 6316.789524 , 7304.3332685,\n",
       "       4022.0479673, 5017.8046415, 5084.374067 , 5017.8046415,\n",
       "       4653.181933 , 4022.0479673, 7304.3332685, 5276.759509 ,\n",
       "       4827.6321213, 8372.406901 , 4022.0479673, 4653.181933 ,\n",
       "       5017.8046415, 4022.0479673, 5084.374067 , 4646.820609 ,\n",
       "       5276.759509 , 4499.8025603, 5420.9260196, 7304.3332685,\n",
       "       4022.0479673, 4093.785407 , 4022.0479673, 5420.9260196,\n",
       "       5017.8046415, 7304.3332685, 5210.0482843, 5084.374067 ,\n",
       "       4022.0479673, 7304.3332685, 5210.0482843, 4646.820609 ,\n",
       "       3763.2638425, 5210.0482843, 3763.2638425, 8372.406901 ,\n",
       "       5405.5746365, 7304.3332685, 4022.0479673, 4499.8025603,\n",
       "       4093.785407 , 4499.8025603, 5084.374067 , 4499.8025603,\n",
       "       7304.3332685, 3763.2638425, 4827.6321213, 5405.5746365,\n",
       "       7304.3332685, 6983.5585646, 7304.3332685, 4093.785407 ,\n",
       "       5210.0482843, 7304.3332685, 5823.001123 , 4653.181933 ,\n",
       "       8372.406901 , 5210.0482843, 7304.3332685, 7304.3332685,\n",
       "       5405.5746365, 4653.181933 , 8372.406901 , 5210.0482843,\n",
       "       4022.0479673, 8372.406901 , 4653.181933 , 8372.406901 ,\n",
       "       5823.001123 , 7304.3332685, 5420.9260196, 5210.0482843,\n",
       "       4499.8025603, 4022.0479673, 4052.037053 , 4499.8025603,\n",
       "       4022.0479673, 7304.3332685, 5420.9260196, 4827.6321213,\n",
       "       4653.181933 , 5210.0482843, 4646.820609 , 5210.0482843,\n",
       "       7304.3332685, 4953.724036 , 5420.9260196, 4653.181933 ,\n",
       "       4022.0479673, 5210.0482843, 3763.2638425, 5210.0482843,\n",
       "       4653.181933 , 7304.3332685, 5084.374067 , 5210.0482843,\n",
       "       5405.5746365, 7304.3332685, 8350.1370959, 5420.9260196,\n",
       "       4499.8025603, 4022.0479673, 8372.406901 , 4093.785407 ,\n",
       "       4653.181933 , 4827.6321213, 4499.8025603, 7304.3332685,\n",
       "       5405.5746365, 7304.3332685, 7304.3332685, 8372.406901 ,\n",
       "       4022.0479673, 7304.3332685, 5084.374067 , 5823.001123 ,\n",
       "       8372.406901 , 4653.181933 , 5405.5746365, 5405.5746365,\n",
       "       8372.406901 , 7304.3332685, 7304.3332685, 5017.8046415,\n",
       "       7304.3332685, 5084.374067 , 4022.0479673, 5017.8046415,\n",
       "       4653.181933 , 4653.181933 , 5405.5746365, 5210.0482843,\n",
       "       4022.0479673, 4653.181933 , 8372.406901 , 5823.001123 ,\n",
       "       5276.759509 , 4022.0479673, 8350.1370959, 5210.0482843,\n",
       "       4646.820609 , 5420.9260196, 6983.5585646, 5518.6142695,\n",
       "       5405.5746365, 4052.037053 , 5420.9260196, 5276.759509 ,\n",
       "       5420.9260196, 5420.9260196, 7304.3332685, 5405.5746365,\n",
       "       5210.0482843, 4093.785407 , 8372.406901 , 5403.592755 ,\n",
       "       5420.9260196, 5084.374067 , 4653.181933 , 4653.181933 ,\n",
       "       5210.0482843, 4022.0479673, 7304.3332685, 4653.181933 ,\n",
       "       4499.8025603, 4653.181933 , 5405.5746365, 5210.0482843,\n",
       "       4653.181933 , 6316.789524 , 5210.0482843, 8350.1370959,\n",
       "       6316.789524 , 5210.0482843, 8372.406901 , 4022.0479673,\n",
       "       5420.9260196, 5210.0482843, 4499.8025603, 8372.406901 ,\n",
       "       5084.374067 , 5823.001123 , 5405.5746365, 4827.6321213,\n",
       "       5210.0482843, 7304.3332685, 4653.181933 , 5210.0482843,\n",
       "       4022.0479673, 5403.592755 , 8350.1370959, 7304.3332685,\n",
       "       7304.3332685, 6316.789524 , 4093.785407 , 5084.374067 ,\n",
       "       4827.6321213, 5084.374067 , 6316.789524 , 7304.3332685,\n",
       "       4646.820609 , 4653.181933 , 5420.9260196, 7304.3332685,\n",
       "       4022.0479673, 5420.9260196, 5823.001123 , 4022.0479673,\n",
       "       4093.785407 , 7304.3332685, 3763.2638425, 4052.037053 ,\n",
       "       5405.5746365, 5405.5746365, 7304.3332685, 5518.6142695,\n",
       "       4022.0479673, 7304.3332685, 5084.374067 , 5518.6142695,\n",
       "       3763.2638425, 5210.0482843, 4499.8025603, 4022.0479673,\n",
       "       7304.3332685, 4646.820609 , 5518.6142695, 5210.0482843,\n",
       "       4093.785407 , 4827.6321213, 5210.0482843, 4499.8025603,\n",
       "       7304.3332685, 6316.789524 , 5403.592755 , 5210.0482843,\n",
       "       4052.037053 , 5420.9260196, 8350.1370959, 5420.9260196,\n",
       "       5210.0482843, 6316.789524 , 8350.1370959, 4022.0479673,\n",
       "       4022.0479673, 7304.3332685, 4653.181933 , 4653.181933 ,\n",
       "       5420.9260196, 4653.181933 , 5405.5746365, 4052.037053 ,\n",
       "       4022.0479673, 7304.3332685, 8372.406901 , 5017.8046415,\n",
       "       5210.0482843, 5420.9260196, 5405.5746365, 4052.037053 ,\n",
       "       5210.0482843, 4022.0479673, 5084.374067 , 5210.0482843,\n",
       "       5405.5746365, 8372.406901 , 5210.0482843, 3763.2638425,\n",
       "       4653.181933 , 5017.8046415, 5420.9260196, 5420.9260196,\n",
       "       8372.406901 , 4093.785407 , 8350.1370959, 5210.0482843,\n",
       "       4022.0479673, 5405.5746365, 7304.3332685, 3763.2638425,\n",
       "       5210.0482843, 7304.3332685, 4827.6321213, 7304.3332685,\n",
       "       5210.0482843, 4953.724036 , 4653.181933 , 5210.0482843,\n",
       "       5405.5746365, 4953.724036 , 7304.3332685, 5405.5746365,\n",
       "       4653.181933 , 7304.3332685, 4653.181933 , 4022.0479673,\n",
       "       4093.785407 , 8372.406901 , 4653.181933 , 6316.789524 ,\n",
       "       3763.2638425, 3763.2638425, 4022.0479673, 5210.0482843,\n",
       "       5405.5746365, 5210.0482843, 4646.820609 , 4052.037053 ,\n",
       "       4022.0479673, 8350.1370959, 5017.8046415, 4827.6321213,\n",
       "       6316.789524 , 5276.759509 , 4022.0479673, 7304.3332685,\n",
       "       5017.8046415, 8372.406901 , 7304.3332685, 4653.181933 ,\n",
       "       5823.001123 , 5210.0482843, 4022.0479673, 4022.0479673,\n",
       "       4022.0479673, 8372.406901 , 4022.0479673, 4653.181933 ,\n",
       "       4827.6321213, 5405.5746365, 7304.3332685, 4653.181933 ,\n",
       "       5017.8046415, 5823.001123 , 4022.0479673, 8350.1370959,\n",
       "       4022.0479673, 8372.406901 , 7304.3332685, 5210.0482843,\n",
       "       4022.0479673, 3763.2638425, 5420.9260196, 4022.0479673,\n",
       "       5210.0482843, 3763.2638425, 4093.785407 , 5210.0482843,\n",
       "       7304.3332685, 5420.9260196, 5017.8046415, 5405.5746365,\n",
       "       5210.0482843, 5420.9260196, 5210.0482843, 4653.181933 ,\n",
       "       5823.001123 , 5823.001123 , 5420.9260196, 5276.759509 ,\n",
       "       6983.5585646, 4653.181933 , 4093.785407 , 4093.785407 ,\n",
       "       7304.3332685, 5518.6142695, 8372.406901 , 5210.0482843,\n",
       "       3763.2638425, 6316.789524 , 4022.0479673, 7304.3332685,\n",
       "       6316.789524 , 4052.037053 , 5084.374067 , 4827.6321213,\n",
       "       4022.0479673, 5276.759509 , 7304.3332685, 4093.785407 ,\n",
       "       6316.789524 , 6316.789524 , 4022.0479673, 4022.0479673,\n",
       "       4022.0479673, 4827.6321213, 4653.181933 , 5420.9260196,\n",
       "       5823.001123 , 4093.785407 , 4093.785407 , 4022.0479673,\n",
       "       6316.789524 , 3763.2638425, 5420.9260196, 5823.001123 ,\n",
       "       6983.5585646, 5276.759509 , 8372.406901 , 5420.9260196,\n",
       "       5017.8046415, 5210.0482843, 5823.001123 , 5420.9260196,\n",
       "       5210.0482843, 4653.181933 , 5017.8046415, 9252.9346841,\n",
       "       4022.0479673, 6316.789524 , 5017.8046415, 4653.181933 ,\n",
       "       3763.2638425, 6316.789524 , 5405.5746365, 5084.374067 ,\n",
       "       5017.8046415, 4653.181933 , 5210.0482843, 4827.6321213,\n",
       "       8350.1370959, 4022.0479673, 7304.3332685, 5017.8046415,\n",
       "       4022.0479673, 5210.0482843, 4022.0479673, 5210.0482843,\n",
       "       5405.5746365, 4646.820609 , 4646.820609 , 4022.0479673,\n",
       "       4653.181933 , 4653.181933 , 7304.3332685, 7304.3332685,\n",
       "       7304.3332685, 4653.181933 , 5276.759509 , 4499.8025603,\n",
       "       7304.3332685, 8350.1370959, 7304.3332685, 4653.181933 ,\n",
       "       7304.3332685, 4022.0479673, 5420.9260196, 4022.0479673,\n",
       "       5210.0482843, 5210.0482843, 8372.406901 , 5405.5746365,\n",
       "       8372.406901 , 5084.374067 , 3763.2638425, 7304.3332685,\n",
       "       4499.8025603, 7304.3332685, 7304.3332685, 5420.9260196,\n",
       "       4022.0479673, 4653.181933 , 5405.5746365, 3763.2638425,\n",
       "       7304.3332685, 5210.0482843, 4022.0479673, 5276.759509 ,\n",
       "       4093.785407 , 4653.181933 , 5403.592755 , 4499.8025603,\n",
       "       5405.5746365, 9252.9346841, 5210.0482843, 5210.0482843,\n",
       "       8372.406901 , 6983.5585646, 5405.5746365, 5084.374067 ,\n",
       "       8350.1370959, 4653.181933 , 4022.0479673, 5210.0482843,\n",
       "       8372.406901 , 5210.0482843, 5017.8046415, 4093.785407 ,\n",
       "       5420.9260196, 3763.2638425, 4827.6321213, 8372.406901 ,\n",
       "       8350.1370959, 4953.724036 , 4653.181933 , 4499.8025603,\n",
       "       4827.6321213, 8350.1370959, 5823.001123 , 5420.9260196,\n",
       "       4022.0479673, 8372.406901 , 6983.5585646, 4827.6321213,\n",
       "       6316.789524 , 7304.3332685, 4653.181933 , 5210.0482843,\n",
       "       4093.785407 , 4022.0479673, 4499.8025603, 4653.181933 ,\n",
       "       4646.820609 , 5420.9260196, 5210.0482843, 5210.0482843,\n",
       "       5405.5746365, 5084.374067 , 5823.001123 , 5017.8046415,\n",
       "       7304.3332685, 7304.3332685, 4022.0479673, 5210.0482843,\n",
       "       4653.181933 , 7304.3332685, 4827.6321213, 7304.3332685,\n",
       "       8350.1370959, 7304.3332685, 8350.1370959, 8350.1370959,\n",
       "       8350.1370959, 4653.181933 , 4022.0479673, 7304.3332685,\n",
       "       7304.3332685, 4827.6321213, 4827.6321213, 4499.8025603,\n",
       "       4827.6321213, 7304.3332685, 4827.6321213, 5210.0482843,\n",
       "       4653.181933 , 3763.2638425, 3763.2638425, 5210.0482843,\n",
       "       4653.181933 , 4022.0479673, 4022.0479673, 5210.0482843,\n",
       "       7304.3332685, 4022.0479673, 7304.3332685, 4499.8025603,\n",
       "       7304.3332685, 4653.181933 , 4022.0479673, 7304.3332685,\n",
       "       5210.0482843, 4022.0479673, 3763.2638425, 7304.3332685,\n",
       "       7304.3332685, 4653.181933 , 4022.0479673, 5210.0482843,\n",
       "       3763.2638425, 3763.2638425, 4653.181933 , 4022.0479673,\n",
       "       4499.8025603, 4022.0479673, 5210.0482843, 7304.3332685,\n",
       "       7304.3332685, 3763.2638425, 4499.8025603, 7304.3332685,\n",
       "       4653.181933 , 4022.0479673, 4499.8025603, 4022.0479673,\n",
       "       7304.3332685, 4022.0479673, 3763.2638425, 4499.8025603,\n",
       "       4022.0479673, 7304.3332685, 4022.0479673, 4653.181933 ,\n",
       "       5210.0482843, 5210.0482843, 5210.0482843, 4653.181933 ,\n",
       "       4653.181933 , 7304.3332685, 4827.6321213, 7304.3332685,\n",
       "       4653.181933 , 8350.1370959, 7304.3332685, 7304.3332685,\n",
       "       4653.181933 , 3763.2638425, 7304.3332685, 5210.0482843,\n",
       "       5210.0482843, 4022.0479673, 7304.3332685, 4022.0479673,\n",
       "       4653.181933 , 4022.0479673, 8350.1370959, 5210.0482843,\n",
       "       7304.3332685, 3763.2638425, 3763.2638425, 5210.0482843,\n",
       "       5210.0482843, 4022.0479673, 4022.0479673, 5210.0482843,\n",
       "       4827.6321213, 3763.2638425, 4022.0479673, 4022.0479673,\n",
       "       7304.3332685, 4827.6321213, 4653.181933 , 4827.6321213,\n",
       "       3763.2638425, 4499.8025603, 4022.0479673, 4022.0479673,\n",
       "       7304.3332685, 3763.2638425, 4499.8025603, 4022.0479673,\n",
       "       4827.6321213, 8350.1370959, 7304.3332685, 4499.8025603,\n",
       "       8350.1370959, 4499.8025603, 4022.0479673, 4653.181933 ,\n",
       "       7304.3332685, 4827.6321213, 7304.3332685, 4653.181933 ,\n",
       "       8350.1370959, 4022.0479673, 4653.181933 , 4022.0479673,\n",
       "       4653.181933 , 4653.181933 , 3763.2638425, 4022.0479673,\n",
       "       4827.6321213, 7304.3332685, 7304.3332685, 4022.0479673,\n",
       "       4022.0479673, 4499.8025603, 7304.3332685, 4022.0479673,\n",
       "       4653.181933 , 4022.0479673, 4499.8025603, 4653.181933 ,\n",
       "       4653.181933 , 4022.0479673, 4653.181933 , 7304.3332685,\n",
       "       4653.181933 , 4022.0479673, 4653.181933 , 5210.0482843,\n",
       "       4022.0479673, 7304.3332685, 5210.0482843, 7304.3332685,\n",
       "       4022.0479673, 4653.181933 , 5210.0482843, 4022.0479673,\n",
       "       4022.0479673, 4653.181933 , 4827.6321213, 7304.3332685,\n",
       "       4022.0479673, 4022.0479673, 4499.8025603, 5210.0482843,\n",
       "       7304.3332685, 4827.6321213, 4022.0479673, 5210.0482843,\n",
       "       7304.3332685, 7304.3332685, 3763.2638425, 7304.3332685,\n",
       "       4022.0479673, 3763.2638425, 4022.0479673, 8350.1370959,\n",
       "       4653.181933 , 4827.6321213, 4022.0479673, 7304.3332685,\n",
       "       7304.3332685, 4653.181933 , 7304.3332685, 4499.8025603,\n",
       "       7304.3332685, 3763.2638425, 7304.3332685, 7304.3332685,\n",
       "       7304.3332685, 4827.6321213, 4653.181933 , 4653.181933 ,\n",
       "       4022.0479673, 5210.0482843, 5210.0482843, 4653.181933 ,\n",
       "       3763.2638425, 7304.3332685, 7304.3332685, 4827.6321213,\n",
       "       8350.1370959, 4827.6321213, 5210.0482843, 5210.0482843,\n",
       "       4827.6321213, 4653.181933 , 4653.181933 , 4653.181933 ,\n",
       "       4022.0479673, 4022.0479673, 7304.3332685, 4022.0479673,\n",
       "       5210.0482843, 4499.8025603, 4022.0479673, 8350.1370959,\n",
       "       4022.0479673, 7304.3332685, 4022.0479673, 5210.0482843,\n",
       "       7304.3332685, 7304.3332685, 4022.0479673, 4499.8025603,\n",
       "       4827.6321213, 4653.181933 , 4653.181933 , 4653.181933 ,\n",
       "       4653.181933 , 4022.0479673, 4499.8025603, 5210.0482843,\n",
       "       5210.0482843, 8350.1370959, 8350.1370959, 3763.2638425,\n",
       "       5210.0482843, 4022.0479673, 7304.3332685, 5210.0482843,\n",
       "       4499.8025603, 4653.181933 , 8350.1370959, 7304.3332685,\n",
       "       4827.6321213, 3763.2638425, 5210.0482843, 4022.0479673,\n",
       "       5210.0482843, 7304.3332685, 5210.0482843, 4653.181933 ,\n",
       "       4827.6321213, 4022.0479673, 4653.181933 , 4022.0479673,\n",
       "       7304.3332685, 4653.181933 , 4827.6321213, 5210.0482843,\n",
       "       7304.3332685, 7304.3332685, 3763.2638425, 8350.1370959,\n",
       "       7304.3332685, 4827.6321213, 4653.181933 , 3763.2638425,\n",
       "       4022.0479673, 4499.8025603, 7304.3332685, 8350.1370959,\n",
       "       4022.0479673, 7304.3332685, 7304.3332685, 7304.3332685,\n",
       "       4653.181933 , 8350.1370959, 4653.181933 , 4653.181933 ,\n",
       "       5210.0482843, 4022.0479673, 4653.181933 , 4022.0479673,\n",
       "       4499.8025603, 4499.8025603, 5210.0482843, 5210.0482843,\n",
       "       4653.181933 , 8350.1370959, 4653.181933 , 3763.2638425,\n",
       "       8350.1370959, 4653.181933 , 4827.6321213])"
      ]
     },
     "execution_count": 382,
     "metadata": {},
     "output_type": "execute_result"
    }
   ],
   "source": [
    "#RANDOM FOREST\n",
    "from sklearn.ensemble import RandomForestRegressor\n",
    "\n",
    "forest = RandomForestRegressor(n_estimators=100, random_state=47)\n",
    "forest.fit(X_train, y_train)\n",
    "\n",
    "test_pred_forest = forest.predict(test_transformed)\n",
    "\n",
    "test_pred_forest"
   ]
  },
  {
   "cell_type": "code",
   "execution_count": 389,
   "metadata": {},
   "outputs": [
    {
     "data": {
      "text/html": [
       "<div>\n",
       "<style scoped>\n",
       "    .dataframe tbody tr th:only-of-type {\n",
       "        vertical-align: middle;\n",
       "    }\n",
       "\n",
       "    .dataframe tbody tr th {\n",
       "        vertical-align: top;\n",
       "    }\n",
       "\n",
       "    .dataframe thead th {\n",
       "        text-align: right;\n",
       "    }\n",
       "</style>\n",
       "<table border=\"1\" class=\"dataframe\">\n",
       "  <thead>\n",
       "    <tr style=\"text-align: right;\">\n",
       "      <th></th>\n",
       "      <th>row_id</th>\n",
       "      <th>prediction</th>\n",
       "    </tr>\n",
       "  </thead>\n",
       "  <tbody>\n",
       "    <tr>\n",
       "      <th>0</th>\n",
       "      <td>0</td>\n",
       "      <td>9252.934684</td>\n",
       "    </tr>\n",
       "    <tr>\n",
       "      <th>1</th>\n",
       "      <td>1</td>\n",
       "      <td>5405.574637</td>\n",
       "    </tr>\n",
       "    <tr>\n",
       "      <th>2</th>\n",
       "      <td>2</td>\n",
       "      <td>7304.333269</td>\n",
       "    </tr>\n",
       "    <tr>\n",
       "      <th>3</th>\n",
       "      <td>3</td>\n",
       "      <td>5210.048284</td>\n",
       "    </tr>\n",
       "    <tr>\n",
       "      <th>4</th>\n",
       "      <td>4</td>\n",
       "      <td>4022.047967</td>\n",
       "    </tr>\n",
       "    <tr>\n",
       "      <th>5</th>\n",
       "      <td>5</td>\n",
       "      <td>5210.048284</td>\n",
       "    </tr>\n",
       "    <tr>\n",
       "      <th>6</th>\n",
       "      <td>6</td>\n",
       "      <td>4653.181933</td>\n",
       "    </tr>\n",
       "    <tr>\n",
       "      <th>7</th>\n",
       "      <td>7</td>\n",
       "      <td>4653.181933</td>\n",
       "    </tr>\n",
       "    <tr>\n",
       "      <th>8</th>\n",
       "      <td>8</td>\n",
       "      <td>7304.333269</td>\n",
       "    </tr>\n",
       "    <tr>\n",
       "      <th>9</th>\n",
       "      <td>9</td>\n",
       "      <td>5210.048284</td>\n",
       "    </tr>\n",
       "    <tr>\n",
       "      <th>10</th>\n",
       "      <td>10</td>\n",
       "      <td>3763.263842</td>\n",
       "    </tr>\n",
       "    <tr>\n",
       "      <th>11</th>\n",
       "      <td>11</td>\n",
       "      <td>4093.785407</td>\n",
       "    </tr>\n",
       "    <tr>\n",
       "      <th>12</th>\n",
       "      <td>12</td>\n",
       "      <td>4827.632121</td>\n",
       "    </tr>\n",
       "    <tr>\n",
       "      <th>13</th>\n",
       "      <td>13</td>\n",
       "      <td>5017.804642</td>\n",
       "    </tr>\n",
       "    <tr>\n",
       "      <th>14</th>\n",
       "      <td>14</td>\n",
       "      <td>6316.789524</td>\n",
       "    </tr>\n",
       "    <tr>\n",
       "      <th>15</th>\n",
       "      <td>15</td>\n",
       "      <td>7304.333269</td>\n",
       "    </tr>\n",
       "    <tr>\n",
       "      <th>16</th>\n",
       "      <td>16</td>\n",
       "      <td>4499.802560</td>\n",
       "    </tr>\n",
       "    <tr>\n",
       "      <th>17</th>\n",
       "      <td>17</td>\n",
       "      <td>5405.574637</td>\n",
       "    </tr>\n",
       "    <tr>\n",
       "      <th>18</th>\n",
       "      <td>18</td>\n",
       "      <td>4653.181933</td>\n",
       "    </tr>\n",
       "    <tr>\n",
       "      <th>19</th>\n",
       "      <td>19</td>\n",
       "      <td>8372.406901</td>\n",
       "    </tr>\n",
       "    <tr>\n",
       "      <th>20</th>\n",
       "      <td>20</td>\n",
       "      <td>3763.263842</td>\n",
       "    </tr>\n",
       "    <tr>\n",
       "      <th>21</th>\n",
       "      <td>21</td>\n",
       "      <td>4653.181933</td>\n",
       "    </tr>\n",
       "    <tr>\n",
       "      <th>22</th>\n",
       "      <td>22</td>\n",
       "      <td>4022.047967</td>\n",
       "    </tr>\n",
       "    <tr>\n",
       "      <th>23</th>\n",
       "      <td>23</td>\n",
       "      <td>5420.926020</td>\n",
       "    </tr>\n",
       "    <tr>\n",
       "      <th>24</th>\n",
       "      <td>24</td>\n",
       "      <td>4022.047967</td>\n",
       "    </tr>\n",
       "    <tr>\n",
       "      <th>25</th>\n",
       "      <td>25</td>\n",
       "      <td>4653.181933</td>\n",
       "    </tr>\n",
       "    <tr>\n",
       "      <th>26</th>\n",
       "      <td>26</td>\n",
       "      <td>6316.789524</td>\n",
       "    </tr>\n",
       "    <tr>\n",
       "      <th>27</th>\n",
       "      <td>27</td>\n",
       "      <td>7304.333269</td>\n",
       "    </tr>\n",
       "    <tr>\n",
       "      <th>28</th>\n",
       "      <td>28</td>\n",
       "      <td>4022.047967</td>\n",
       "    </tr>\n",
       "    <tr>\n",
       "      <th>29</th>\n",
       "      <td>29</td>\n",
       "      <td>5017.804642</td>\n",
       "    </tr>\n",
       "    <tr>\n",
       "      <th>...</th>\n",
       "      <td>...</td>\n",
       "      <td>...</td>\n",
       "    </tr>\n",
       "    <tr>\n",
       "      <th>825</th>\n",
       "      <td>825</td>\n",
       "      <td>4827.632121</td>\n",
       "    </tr>\n",
       "    <tr>\n",
       "      <th>826</th>\n",
       "      <td>826</td>\n",
       "      <td>4653.181933</td>\n",
       "    </tr>\n",
       "    <tr>\n",
       "      <th>827</th>\n",
       "      <td>827</td>\n",
       "      <td>3763.263842</td>\n",
       "    </tr>\n",
       "    <tr>\n",
       "      <th>828</th>\n",
       "      <td>828</td>\n",
       "      <td>4022.047967</td>\n",
       "    </tr>\n",
       "    <tr>\n",
       "      <th>829</th>\n",
       "      <td>829</td>\n",
       "      <td>4499.802560</td>\n",
       "    </tr>\n",
       "    <tr>\n",
       "      <th>830</th>\n",
       "      <td>830</td>\n",
       "      <td>7304.333269</td>\n",
       "    </tr>\n",
       "    <tr>\n",
       "      <th>831</th>\n",
       "      <td>831</td>\n",
       "      <td>8350.137096</td>\n",
       "    </tr>\n",
       "    <tr>\n",
       "      <th>832</th>\n",
       "      <td>832</td>\n",
       "      <td>4022.047967</td>\n",
       "    </tr>\n",
       "    <tr>\n",
       "      <th>833</th>\n",
       "      <td>833</td>\n",
       "      <td>7304.333269</td>\n",
       "    </tr>\n",
       "    <tr>\n",
       "      <th>834</th>\n",
       "      <td>834</td>\n",
       "      <td>7304.333269</td>\n",
       "    </tr>\n",
       "    <tr>\n",
       "      <th>835</th>\n",
       "      <td>835</td>\n",
       "      <td>7304.333269</td>\n",
       "    </tr>\n",
       "    <tr>\n",
       "      <th>836</th>\n",
       "      <td>836</td>\n",
       "      <td>4653.181933</td>\n",
       "    </tr>\n",
       "    <tr>\n",
       "      <th>837</th>\n",
       "      <td>837</td>\n",
       "      <td>8350.137096</td>\n",
       "    </tr>\n",
       "    <tr>\n",
       "      <th>838</th>\n",
       "      <td>838</td>\n",
       "      <td>4653.181933</td>\n",
       "    </tr>\n",
       "    <tr>\n",
       "      <th>839</th>\n",
       "      <td>839</td>\n",
       "      <td>4653.181933</td>\n",
       "    </tr>\n",
       "    <tr>\n",
       "      <th>840</th>\n",
       "      <td>840</td>\n",
       "      <td>5210.048284</td>\n",
       "    </tr>\n",
       "    <tr>\n",
       "      <th>841</th>\n",
       "      <td>841</td>\n",
       "      <td>4022.047967</td>\n",
       "    </tr>\n",
       "    <tr>\n",
       "      <th>842</th>\n",
       "      <td>842</td>\n",
       "      <td>4653.181933</td>\n",
       "    </tr>\n",
       "    <tr>\n",
       "      <th>843</th>\n",
       "      <td>843</td>\n",
       "      <td>4022.047967</td>\n",
       "    </tr>\n",
       "    <tr>\n",
       "      <th>844</th>\n",
       "      <td>844</td>\n",
       "      <td>4499.802560</td>\n",
       "    </tr>\n",
       "    <tr>\n",
       "      <th>845</th>\n",
       "      <td>845</td>\n",
       "      <td>4499.802560</td>\n",
       "    </tr>\n",
       "    <tr>\n",
       "      <th>846</th>\n",
       "      <td>846</td>\n",
       "      <td>5210.048284</td>\n",
       "    </tr>\n",
       "    <tr>\n",
       "      <th>847</th>\n",
       "      <td>847</td>\n",
       "      <td>5210.048284</td>\n",
       "    </tr>\n",
       "    <tr>\n",
       "      <th>848</th>\n",
       "      <td>848</td>\n",
       "      <td>4653.181933</td>\n",
       "    </tr>\n",
       "    <tr>\n",
       "      <th>849</th>\n",
       "      <td>849</td>\n",
       "      <td>8350.137096</td>\n",
       "    </tr>\n",
       "    <tr>\n",
       "      <th>850</th>\n",
       "      <td>850</td>\n",
       "      <td>4653.181933</td>\n",
       "    </tr>\n",
       "    <tr>\n",
       "      <th>851</th>\n",
       "      <td>851</td>\n",
       "      <td>3763.263842</td>\n",
       "    </tr>\n",
       "    <tr>\n",
       "      <th>852</th>\n",
       "      <td>852</td>\n",
       "      <td>8350.137096</td>\n",
       "    </tr>\n",
       "    <tr>\n",
       "      <th>853</th>\n",
       "      <td>853</td>\n",
       "      <td>4653.181933</td>\n",
       "    </tr>\n",
       "    <tr>\n",
       "      <th>854</th>\n",
       "      <td>854</td>\n",
       "      <td>4827.632121</td>\n",
       "    </tr>\n",
       "  </tbody>\n",
       "</table>\n",
       "<p>855 rows × 2 columns</p>\n",
       "</div>"
      ],
      "text/plain": [
       "     row_id   prediction\n",
       "0         0  9252.934684\n",
       "1         1  5405.574637\n",
       "2         2  7304.333269\n",
       "3         3  5210.048284\n",
       "4         4  4022.047967\n",
       "5         5  5210.048284\n",
       "6         6  4653.181933\n",
       "7         7  4653.181933\n",
       "8         8  7304.333269\n",
       "9         9  5210.048284\n",
       "10       10  3763.263842\n",
       "11       11  4093.785407\n",
       "12       12  4827.632121\n",
       "13       13  5017.804642\n",
       "14       14  6316.789524\n",
       "15       15  7304.333269\n",
       "16       16  4499.802560\n",
       "17       17  5405.574637\n",
       "18       18  4653.181933\n",
       "19       19  8372.406901\n",
       "20       20  3763.263842\n",
       "21       21  4653.181933\n",
       "22       22  4022.047967\n",
       "23       23  5420.926020\n",
       "24       24  4022.047967\n",
       "25       25  4653.181933\n",
       "26       26  6316.789524\n",
       "27       27  7304.333269\n",
       "28       28  4022.047967\n",
       "29       29  5017.804642\n",
       "..      ...          ...\n",
       "825     825  4827.632121\n",
       "826     826  4653.181933\n",
       "827     827  3763.263842\n",
       "828     828  4022.047967\n",
       "829     829  4499.802560\n",
       "830     830  7304.333269\n",
       "831     831  8350.137096\n",
       "832     832  4022.047967\n",
       "833     833  7304.333269\n",
       "834     834  7304.333269\n",
       "835     835  7304.333269\n",
       "836     836  4653.181933\n",
       "837     837  8350.137096\n",
       "838     838  4653.181933\n",
       "839     839  4653.181933\n",
       "840     840  5210.048284\n",
       "841     841  4022.047967\n",
       "842     842  4653.181933\n",
       "843     843  4022.047967\n",
       "844     844  4499.802560\n",
       "845     845  4499.802560\n",
       "846     846  5210.048284\n",
       "847     847  5210.048284\n",
       "848     848  4653.181933\n",
       "849     849  8350.137096\n",
       "850     850  4653.181933\n",
       "851     851  3763.263842\n",
       "852     852  8350.137096\n",
       "853     853  4653.181933\n",
       "854     854  4827.632121\n",
       "\n",
       "[855 rows x 2 columns]"
      ]
     },
     "execution_count": 389,
     "metadata": {},
     "output_type": "execute_result"
    }
   ],
   "source": [
    "submission = pd.DataFrame({'row_id':range(0, len(test_pred_forest)),'prediction': test_pred_forest})\n",
    "submission"
   ]
  },
  {
   "cell_type": "code",
   "execution_count": 390,
   "metadata": {},
   "outputs": [],
   "source": [
    "submission.to_sql('regression_model_results', con=connection, if_exists='append', index=True,method='multi',chunksize=500)"
   ]
  },
  {
   "cell_type": "code",
   "execution_count": 392,
   "metadata": {},
   "outputs": [
    {
     "data": {
      "text/plain": [
       "['claims_data',\n",
       " 'classification_model_results',\n",
       " 'football_players',\n",
       " 'regression_model_results',\n",
       " 'sysdiagrams',\n",
       " 'test_set',\n",
       " 'test_set2']"
      ]
     },
     "execution_count": 392,
     "metadata": {},
     "output_type": "execute_result"
    }
   ],
   "source": [
    "connection.table_names()"
   ]
  },
  {
   "cell_type": "code",
   "execution_count": null,
   "metadata": {},
   "outputs": [],
   "source": []
  }
 ],
 "metadata": {
  "kernelspec": {
   "display_name": "Python 3",
   "language": "python",
   "name": "python3"
  },
  "language_info": {
   "codemirror_mode": {
    "name": "ipython",
    "version": 3
   },
   "file_extension": ".py",
   "mimetype": "text/x-python",
   "name": "python",
   "nbconvert_exporter": "python",
   "pygments_lexer": "ipython3",
   "version": "3.7.3"
  }
 },
 "nbformat": 4,
 "nbformat_minor": 2
}
